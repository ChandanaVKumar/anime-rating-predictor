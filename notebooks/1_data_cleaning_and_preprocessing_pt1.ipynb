{
 "cells": [
  {
   "cell_type": "markdown",
   "id": "8bd118c5-6161-4a54-9c55-dd7ae3190d2a",
   "metadata": {},
   "source": [
    "# 📊 Anime Ratings Prediction Project — Data Cleaning & Preprocessing\n",
    "\n",
    "This notebook focuses on loading the raw dataset and preparing it for analysis and modeling. It includes:\n",
    "\n",
    "- An overview of the dataset and all its features.\n",
    "- Handling of missing values and unnecessary characters (like `|` in multi-valued columns).\n",
    "- Initial exploration of unique values and null counts.\n",
    "- Transformation of important columns (e.g., converting `genre` strings into Python lists).\n",
    "- Creation of new structured features such as `release_year` and `duration` (total days the anime aired).\n",
    "- Saving a cleaned and consistent version of the dataset for further use in feature engineering and modeling.\n",
    "\n",
    "These steps form the foundation for building a robust and meaningful regression model to predict anime ratings.\n"
   ]
  },
  {
   "cell_type": "markdown",
   "id": "7895f09f-563a-4b70-87d2-23b4989d5592",
   "metadata": {},
   "source": [
    "## 📁 Dataset Overview\n",
    "\n",
    "The dataset used for this project is sourced from [Kaggle - MyAnimeList Dataset](https://www.kaggle.com/datasets/svanoo/myanimelist-dataset). It contains detailed information about thousands of anime titles, including metadata and user-generated ratings.\n",
    "\n",
    "### 📄 Columns in `anime.csv`\n",
    "\n",
    "- **anime_id**: The ID of the anime.\n",
    "- **anime_url**: The MyAnimeList URL of the anime.\n",
    "- **title**: The name of the anime.\n",
    "- **synopsis**: Short description of the plot of the anime.\n",
    "- **main_pic**: URL to the cover picture of the anime.\n",
    "- **type**: Type of the anime (e.g., TV, Movie, OVA).\n",
    "- **source_type**: Type of the source of the anime (e.g., Manga, Light Novel).\n",
    "- **num_episodes**: Number of episodes in the anime.\n",
    "- **status**: The current status of the anime (Finished airing, Currently airing, Not yet aired).\n",
    "- **start_date**: Start date of the anime.\n",
    "- **end_date**: End date of the anime.\n",
    "- **season**: Season and year the anime started airing (e.g., Winter 2020).\n",
    "- **studios**: List of studios that created the anime.\n",
    "- **genres**: List of genres associated with the anime (e.g., Action, Shonen).\n",
    "- **score**: Average score of the anime on MyAnimeList.\n",
    "- **score_count**: Number of users that scored the anime.\n",
    "- **score_rank**: Rank of the anime based on its score on MyAnimeList.\n",
    "- **popularity_rank**: Rank of the anime based on its popularity.\n",
    "- **members_count**: Number of users who are members of the anime.\n",
    "- **favorites_count**: Number of users who marked the anime as a favorite.\n",
    "- **watching_count**: Number of users currently watching the anime.\n",
    "- **completed_count**: Number of users who completed the anime.\n",
    "- **on_hold_count**: Number of users who have the anime on hold.\n",
    "- **dropped_count**: Number of users who dropped the anime.\n",
    "- **plan_to_watch_count**: Number of users who plan to watch the anime.\n",
    "- **total_count**: Total number of users (completed, plan to watch, watching, dropped, or on hold).\n",
    "- **score_10_count**: Number of users who scored the anime a 10.\n",
    "- **score_09_count**: Number of users who scored the anime a 9.\n",
    "- **score_08_count**: Number of users who scored the anime an 8.\n",
    "- **score_07_count**: Number of users who scored the anime a 7.\n",
    "- **score_06_count**: Number of users who scored the anime a 6.\n",
    "- **score_05_count**: Number of users who scored the anime a 5.\n",
    "- **score_04_count**: Number of users who scored the anime a 4.\n",
    "- **score_03_count**: Number of users who scored the anime a 3.\n",
    "- **score_02_count**: Number of users who scored the anime a 2.\n",
    "- **score_01_count**: Number of users who scored the anime a 1.\n",
    "- **clubs**: List of MyAnimeList clubs the anime is part of.\n",
    "- **pics**: List of URLs to pictures of the anime.\n"
   ]
  },
  {
   "cell_type": "code",
   "execution_count": 1,
   "id": "18db7f2a-0029-486d-86d6-22b034f0d410",
   "metadata": {},
   "outputs": [],
   "source": [
    "import pandas as pd"
   ]
  },
  {
   "cell_type": "code",
   "execution_count": 2,
   "id": "92226292-4cbd-4af5-b279-835719e9e6a7",
   "metadata": {},
   "outputs": [],
   "source": [
    "df = pd.read_csv('anime.csv', delimiter='\\t', encoding='utf-8')\n"
   ]
  },
  {
   "cell_type": "code",
   "execution_count": 9,
   "id": "ec1af1c8-4a21-404a-a7b3-9cfd783a3282",
   "metadata": {},
   "outputs": [],
   "source": [
    "df = df.dropna(subset=['score'])"
   ]
  },
  {
   "cell_type": "code",
   "execution_count": 3,
   "id": "6b06bcfe-c3be-4915-985c-3b8b96ab7127",
   "metadata": {},
   "outputs": [],
   "source": [
    "df['genres'] = df['genres'].str.split('|')\n",
    "df['clubs'] = df['clubs'].str.split('|')"
   ]
  },
  {
   "cell_type": "code",
   "execution_count": 5,
   "id": "4d8aed06-6bae-46c1-b355-f5652e6b1167",
   "metadata": {},
   "outputs": [],
   "source": [
    "df.to_csv(\"cleaned_anime_data.csv\", index=False)"
   ]
  },
  {
   "cell_type": "code",
   "execution_count": 6,
   "id": "f434a41f-82c5-4f38-9434-712b7aabd736",
   "metadata": {},
   "outputs": [],
   "source": [
    "df1 = pd.read_csv(\"cleaned_anime_data.csv\")"
   ]
  },
  {
   "cell_type": "markdown",
   "id": "2c73e4c0-a767-4d7c-bde5-b13cc18c4bca",
   "metadata": {},
   "source": [
    "The new dataset now does not have rows with scores = NaN and the multi-valued data in columns 'genres' and 'clubs' are now lists and no loger separated by '|'."
   ]
  },
  {
   "cell_type": "code",
   "execution_count": 10,
   "id": "ce203132-e5c5-4b47-81c2-ba65f0fb799e",
   "metadata": {},
   "outputs": [
    {
     "name": "stdout",
     "output_type": "stream",
     "text": [
      "['anime_id', 'anime_url', 'title', 'synopsis', 'main_pic', 'type', 'source_type', 'num_episodes', 'status', 'start_date', 'end_date', 'season', 'studios', 'genres', 'score', 'score_count', 'score_rank', 'popularity_rank', 'members_count', 'favorites_count', 'watching_count', 'completed_count', 'on_hold_count', 'dropped_count', 'plan_to_watch_count', 'total_count', 'score_10_count', 'score_09_count', 'score_08_count', 'score_07_count', 'score_06_count', 'score_05_count', 'score_04_count', 'score_03_count', 'score_02_count', 'score_01_count', 'clubs', 'pics']\n"
     ]
    }
   ],
   "source": [
    "print(list(df1.columns))"
   ]
  },
  {
   "cell_type": "code",
   "execution_count": 11,
   "id": "4e65c7be-9b8c-4dbb-b123-c08a4b6652e3",
   "metadata": {},
   "outputs": [
    {
     "name": "stdout",
     "output_type": "stream",
     "text": [
      "<bound method NDFrame.head of        anime_id                                          anime_url  \\\n",
      "0          2366  https://myanimelist.net/anime/2366/Touma_Kishi...   \n",
      "1          4940  https://myanimelist.net/anime/4940/Sabaku_no_K...   \n",
      "2         50285  https://myanimelist.net/anime/50285/On_Air_Dek...   \n",
      "3          3975  https://myanimelist.net/anime/3975/Uchi_no_3_S...   \n",
      "4         36036    https://myanimelist.net/anime/36036/Running_Man   \n",
      "...         ...                                                ...   \n",
      "13374     32188  https://myanimelist.net/anime/32188/Steins_Gat...   \n",
      "13375     31324  https://myanimelist.net/anime/31324/Grisaia_no...   \n",
      "13376     31283  https://myanimelist.net/anime/31283/Bikini_War...   \n",
      "13377     33142  https://myanimelist.net/anime/33142/Re_Zero_ka...   \n",
      "13378     31234  https://myanimelist.net/anime/31234/Himouto_Um...   \n",
      "\n",
      "                                                   title  \\\n",
      "0                                    Touma Kishinden Oni   \n",
      "1                       Sabaku no Kaizoku! Captain Kuppa   \n",
      "2                                        On Air Dekinai!   \n",
      "3                                       Uchi no 3 Shimai   \n",
      "4                                            Running Man   \n",
      "...                                                  ...   \n",
      "13374  Steins;Gate: Kyoukaimenjou no Missing Link - D...   \n",
      "13375  Grisaia no Meikyuu: Caprice no Mayu 0 - Takizo...   \n",
      "13376                            Bikini Warriors Special   \n",
      "13377                   Re:Zero kara Hajimeru Break Time   \n",
      "13378                               Himouto! Umaru-chanS   \n",
      "\n",
      "                                                synopsis  \\\n",
      "0      Shuramaru is hated and feared by the villagers...   \n",
      "1      Sometime in the future, the world was complete...   \n",
      "2      Set in 2014, the anime follows the adventures ...   \n",
      "3      The daily life of the Motsumoto family. The th...   \n",
      "4      The Soul Tree, the great source of our race.  ...   \n",
      "...                                                  ...   \n",
      "13374  Having reached his emotional breaking point, R...   \n",
      "13375   Special bundled with the Blu-ray/DVD volume of .   \n",
      "13376  According to the official Hobby Japan website,...   \n",
      "13377  A series of comedic shorts featuring chibi ver...   \n",
      "13378  These shorts, included in the Blu-ray and DVD ...   \n",
      "\n",
      "                                                main_pic     type  \\\n",
      "0      https://cdn.myanimelist.net/images/anime/9/829...       TV   \n",
      "1      https://cdn.myanimelist.net/images/anime/9/736...       TV   \n",
      "2      https://cdn.myanimelist.net/images/anime/1021/...       TV   \n",
      "3      https://cdn.myanimelist.net/images/anime/1631/...       TV   \n",
      "4      https://cdn.myanimelist.net/images/anime/1325/...       TV   \n",
      "...                                                  ...      ...   \n",
      "13374  https://cdn.myanimelist.net/images/anime/7/773...  Special   \n",
      "13375  https://cdn.myanimelist.net/images/anime/2/753...  Special   \n",
      "13376  https://cdn.myanimelist.net/images/anime/12/78...  Special   \n",
      "13377  https://cdn.myanimelist.net/images/anime/8/812...  Special   \n",
      "13378  https://cdn.myanimelist.net/images/anime/13/75...  Special   \n",
      "\n",
      "        source_type  num_episodes            status           start_date  ...  \\\n",
      "0              Game          25.0   Finished Airing  1995-10-05 00:00:00  ...   \n",
      "1             Manga          26.0   Finished Airing  2001-08-13 00:00:00  ...   \n",
      "2             Manga          12.0  Currently Airing  2022-01-10 00:00:00  ...   \n",
      "3             Other         102.0   Finished Airing  2008-04-08 00:00:00  ...   \n",
      "4             Other          48.0   Finished Airing  2017-07-29 00:00:00  ...   \n",
      "...             ...           ...               ...                  ...  ...   \n",
      "13374  Visual novel           1.0   Finished Airing  2015-12-03 00:00:00  ...   \n",
      "13375  Visual novel           1.0   Finished Airing  2015-07-23 00:00:00  ...   \n",
      "13376         Other           1.0   Finished Airing  2015-12-09 00:00:00  ...   \n",
      "13377   Light novel          11.0   Finished Airing  2016-04-08 00:00:00  ...   \n",
      "13378         Manga          12.0   Finished Airing  2015-09-16 00:00:00  ...   \n",
      "\n",
      "      score_08_count score_07_count score_06_count score_05_count  \\\n",
      "0                  0              0              0              0   \n",
      "1                  0              0              0              0   \n",
      "2                  0              0              0              0   \n",
      "3                  0              0              0              0   \n",
      "4                  0              0              0              0   \n",
      "...              ...            ...            ...            ...   \n",
      "13374          41303          19830           5600           2011   \n",
      "13375           6332           8258           4135           2079   \n",
      "13376            501           1079           1629           1773   \n",
      "13377           4591          10606           9148           4477   \n",
      "13378           5951          10490           6541           3040   \n",
      "\n",
      "       score_04_count  score_03_count  score_02_count  score_01_count  \\\n",
      "0                   0               0               0               0   \n",
      "1                   0               0               0               0   \n",
      "2                   0               0               0               0   \n",
      "3                   0               0               0               0   \n",
      "4                   0               0               0               0   \n",
      "...               ...             ...             ...             ...   \n",
      "13374             654             248             259             504   \n",
      "13375             735             359             229             250   \n",
      "13376             908             551             484             507   \n",
      "13377            1185             521             302             253   \n",
      "13378            1022             406             246             253   \n",
      "\n",
      "                                                   clubs  \\\n",
      "0                              ['14045', '10778', '342']   \n",
      "1                                               ['8494']   \n",
      "2                                      ['27907', '8652']   \n",
      "3                                              ['69895']   \n",
      "4                                              ['41909']   \n",
      "...                                                  ...   \n",
      "13374  ['20608', '1365', '27337', '1705', '79626', '2...   \n",
      "13375  ['63421', '79626', '38291', '16869', '1306', '...   \n",
      "13376  ['16869', '67090', '72619', '69433', '70786', ...   \n",
      "13377  ['76804', '79626', '77091', '72468', '71860', ...   \n",
      "13378                        ['78493', '78786', '69228']   \n",
      "\n",
      "                                                    pics  \n",
      "0      https://cdn.myanimelist.net/images/anime/9/544...  \n",
      "1      https://cdn.myanimelist.net/images/anime/9/736...  \n",
      "2      https://cdn.myanimelist.net/images/anime/1021/...  \n",
      "3      https://cdn.myanimelist.net/images/anime/3/716...  \n",
      "4      https://cdn.myanimelist.net/images/anime/1325/...  \n",
      "...                                                  ...  \n",
      "13374  https://cdn.myanimelist.net/images/anime/2/773...  \n",
      "13375  https://cdn.myanimelist.net/images/anime/2/753...  \n",
      "13376  https://cdn.myanimelist.net/images/anime/12/78...  \n",
      "13377  https://cdn.myanimelist.net/images/anime/8/812...  \n",
      "13378  https://cdn.myanimelist.net/images/anime/13/75...  \n",
      "\n",
      "[13379 rows x 38 columns]>\n"
     ]
    }
   ],
   "source": [
    "print(df1.head)"
   ]
  },
  {
   "cell_type": "code",
   "execution_count": 12,
   "id": "9a42d6ad-179d-4177-802b-867b25f67db9",
   "metadata": {},
   "outputs": [],
   "source": [
    "df1 = df1.dropna(subset=['score'])"
   ]
  },
  {
   "cell_type": "code",
   "execution_count": 13,
   "id": "f1ba2622-75a9-402f-b8a6-7a08f70944f8",
   "metadata": {},
   "outputs": [],
   "source": [
    "df1.to_csv(\"cleaned_anime_data_01.csv\", index=False)"
   ]
  },
  {
   "cell_type": "code",
   "execution_count": 19,
   "id": "f5a9bb9b-67f3-4aab-9150-ecf0100dc76b",
   "metadata": {},
   "outputs": [
    {
     "name": "stdout",
     "output_type": "stream",
     "text": [
      "['anime_id', 'anime_url', 'title', 'synopsis', 'main_pic', 'type', 'source_type', 'num_episodes', 'status', 'start_date', 'end_date', 'season', 'studios', 'genres', 'score', 'score_count', 'score_rank', 'popularity_rank', 'members_count', 'favorites_count', 'watching_count', 'completed_count', 'on_hold_count', 'dropped_count', 'plan_to_watch_count', 'total_count', 'score_10_count', 'score_09_count', 'score_08_count', 'score_07_count', 'score_06_count', 'score_05_count', 'score_04_count', 'score_03_count', 'score_02_count', 'score_01_count', 'clubs', 'pics']\n"
     ]
    }
   ],
   "source": [
    "print(list(df2.columns))"
   ]
  },
  {
   "cell_type": "code",
   "execution_count": 20,
   "id": "71ac1c5b-0589-46a5-a05c-5f850e0316b2",
   "metadata": {},
   "outputs": [
    {
     "name": "stdout",
     "output_type": "stream",
     "text": [
      "                                               title  \\\n",
      "0                                    Urasekai Picnic   \n",
      "1                                           Kagewani   \n",
      "2                                               R-15   \n",
      "3                                      School Rumble   \n",
      "4  Re:Zero kara Hajimeru Isekai Seikatsu 2nd Seas...   \n",
      "5                            Shigatsu wa Kimi no Uso   \n",
      "6                 Zhandou Wang Zhi Jufeng Zhan Hun 2   \n",
      "7                         YAT Anshin! Uchuu Ryokou 2   \n",
      "8                 Ring ni Kakero 1: Sekai Taikai-hen   \n",
      "9                                     Moeru! Oniisan   \n",
      "\n",
      "                                              genres  \n",
      "0  ['Adventure', 'Fantasy', 'Girls Love', 'Myster...  \n",
      "1  ['Horror', 'Mystery', 'Supernatural', 'Suspense']  \n",
      "2  ['Comedy', 'Romance', 'Ecchi', 'Harem', 'School']  \n",
      "3         ['Comedy', 'Romance', 'School', 'Shounen']  \n",
      "4  ['Drama', 'Fantasy', 'Suspense', 'Psychological']  \n",
      "5  ['Drama', 'Romance', 'Music', 'School', 'Shoun...  \n",
      "6                      ['Action', 'Kids', 'Shounen']  \n",
      "7       ['Adventure', 'Comedy', 'Sci-Fi', 'Shounen']  \n",
      "8                                         ['Sports']  \n",
      "9                  ['Action', 'Adventure', 'Comedy']  \n"
     ]
    }
   ],
   "source": [
    "print(df2[['title', 'genres']].head(10))  # Prints the first 10 rows"
   ]
  },
  {
   "cell_type": "code",
   "execution_count": 18,
   "id": "97b72abb-1394-484d-b95b-003a8ff35402",
   "metadata": {},
   "outputs": [
    {
     "name": "stdout",
     "output_type": "stream",
     "text": [
      "13379\n"
     ]
    }
   ],
   "source": [
    "print(df.shape[0])  # The first value in shape is the row count"
   ]
  },
  {
   "cell_type": "code",
   "execution_count": 21,
   "id": "57e8436a-759e-467c-a45e-48b82af3783f",
   "metadata": {},
   "outputs": [
    {
     "name": "stdout",
     "output_type": "stream",
     "text": [
      "10714\n"
     ]
    }
   ],
   "source": [
    "print(df2.shape[0])"
   ]
  },
  {
   "cell_type": "code",
   "execution_count": 22,
   "id": "dbf2c88b-817b-4bc1-9f6c-62da90efef52",
   "metadata": {},
   "outputs": [
    {
     "name": "stdout",
     "output_type": "stream",
     "text": [
      "anime_id                  0\n",
      "anime_url                 0\n",
      "title                     0\n",
      "synopsis                  2\n",
      "main_pic                  0\n",
      "type                      0\n",
      "source_type               0\n",
      "num_episodes             65\n",
      "status                    0\n",
      "start_date                0\n",
      "end_date                 93\n",
      "season                 7008\n",
      "studios                1506\n",
      "genres                    0\n",
      "score                     0\n",
      "score_count               0\n",
      "score_rank             1249\n",
      "popularity_rank           0\n",
      "members_count             0\n",
      "favorites_count           0\n",
      "watching_count            0\n",
      "completed_count           0\n",
      "on_hold_count             0\n",
      "dropped_count             0\n",
      "plan_to_watch_count       0\n",
      "total_count               0\n",
      "score_10_count            0\n",
      "score_09_count            0\n",
      "score_08_count            0\n",
      "score_07_count            0\n",
      "score_06_count            0\n",
      "score_05_count            0\n",
      "score_04_count            0\n",
      "score_03_count            0\n",
      "score_02_count            0\n",
      "score_01_count            0\n",
      "clubs                   843\n",
      "pics                      0\n",
      "dtype: int64\n"
     ]
    }
   ],
   "source": [
    "print(df2.isnull().sum())  # Shows count of missing values per column"
   ]
  },
  {
   "cell_type": "code",
   "execution_count": 24,
   "id": "c0bac6ae-8b6e-4f9b-9abd-d53ad3406a20",
   "metadata": {},
   "outputs": [
    {
     "data": {
      "text/html": [
       "<div>\n",
       "<style scoped>\n",
       "    .dataframe tbody tr th:only-of-type {\n",
       "        vertical-align: middle;\n",
       "    }\n",
       "\n",
       "    .dataframe tbody tr th {\n",
       "        vertical-align: top;\n",
       "    }\n",
       "\n",
       "    .dataframe thead th {\n",
       "        text-align: right;\n",
       "    }\n",
       "</style>\n",
       "<table border=\"1\" class=\"dataframe\">\n",
       "  <thead>\n",
       "    <tr style=\"text-align: right;\">\n",
       "      <th></th>\n",
       "      <th>anime_id</th>\n",
       "      <th>anime_url</th>\n",
       "      <th>title</th>\n",
       "      <th>synopsis</th>\n",
       "      <th>main_pic</th>\n",
       "      <th>type</th>\n",
       "      <th>source_type</th>\n",
       "      <th>num_episodes</th>\n",
       "      <th>status</th>\n",
       "      <th>start_date</th>\n",
       "      <th>...</th>\n",
       "      <th>score_08_count</th>\n",
       "      <th>score_07_count</th>\n",
       "      <th>score_06_count</th>\n",
       "      <th>score_05_count</th>\n",
       "      <th>score_04_count</th>\n",
       "      <th>score_03_count</th>\n",
       "      <th>score_02_count</th>\n",
       "      <th>score_01_count</th>\n",
       "      <th>clubs</th>\n",
       "      <th>pics</th>\n",
       "    </tr>\n",
       "  </thead>\n",
       "  <tbody>\n",
       "    <tr>\n",
       "      <th>127</th>\n",
       "      <td>42295</td>\n",
       "      <td>https://myanimelist.net/anime/42295/Fushigi_Da...</td>\n",
       "      <td>Fushigi Dagashiya: Zenitendou</td>\n",
       "      <td>Zenitendo is a mysterious candy store that onl...</td>\n",
       "      <td>https://cdn.myanimelist.net/images/anime/1994/...</td>\n",
       "      <td>TV</td>\n",
       "      <td>Novel</td>\n",
       "      <td>NaN</td>\n",
       "      <td>Currently Airing</td>\n",
       "      <td>2020-09-08 00:00:00</td>\n",
       "      <td>...</td>\n",
       "      <td>8</td>\n",
       "      <td>27</td>\n",
       "      <td>36</td>\n",
       "      <td>16</td>\n",
       "      <td>15</td>\n",
       "      <td>4</td>\n",
       "      <td>7</td>\n",
       "      <td>6</td>\n",
       "      <td>['27907']</td>\n",
       "      <td>https://cdn.myanimelist.net/images/anime/1994/...</td>\n",
       "    </tr>\n",
       "    <tr>\n",
       "      <th>354</th>\n",
       "      <td>48365</td>\n",
       "      <td>https://myanimelist.net/anime/48365/Youkai_Wat...</td>\n",
       "      <td>Youkai Watch ♪</td>\n",
       "      <td>The new show will feature unique and returning...</td>\n",
       "      <td>https://cdn.myanimelist.net/images/anime/1682/...</td>\n",
       "      <td>TV</td>\n",
       "      <td>Game</td>\n",
       "      <td>NaN</td>\n",
       "      <td>Currently Airing</td>\n",
       "      <td>2021-04-09 00:00:00</td>\n",
       "      <td>...</td>\n",
       "      <td>45</td>\n",
       "      <td>70</td>\n",
       "      <td>70</td>\n",
       "      <td>45</td>\n",
       "      <td>17</td>\n",
       "      <td>13</td>\n",
       "      <td>11</td>\n",
       "      <td>10</td>\n",
       "      <td>['27907', '17659']</td>\n",
       "      <td>https://cdn.myanimelist.net/images/anime/1271/...</td>\n",
       "    </tr>\n",
       "    <tr>\n",
       "      <th>385</th>\n",
       "      <td>50418</td>\n",
       "      <td>https://myanimelist.net/anime/50418/Ninjala_TV</td>\n",
       "      <td>Ninjala (TV)</td>\n",
       "      <td>The year is 20XX. The ninja, who once forged t...</td>\n",
       "      <td>https://cdn.myanimelist.net/images/anime/1552/...</td>\n",
       "      <td>TV</td>\n",
       "      <td>Game</td>\n",
       "      <td>NaN</td>\n",
       "      <td>Currently Airing</td>\n",
       "      <td>2022-01-08 00:00:00</td>\n",
       "      <td>...</td>\n",
       "      <td>15</td>\n",
       "      <td>31</td>\n",
       "      <td>49</td>\n",
       "      <td>34</td>\n",
       "      <td>23</td>\n",
       "      <td>6</td>\n",
       "      <td>10</td>\n",
       "      <td>10</td>\n",
       "      <td>['27907', '8652', '72473']</td>\n",
       "      <td>https://cdn.myanimelist.net/images/anime/1602/...</td>\n",
       "    </tr>\n",
       "    <tr>\n",
       "      <th>391</th>\n",
       "      <td>50281</td>\n",
       "      <td>https://myanimelist.net/anime/50281/Delicious_...</td>\n",
       "      <td>Delicious Party♡Precure</td>\n",
       "      <td>.</td>\n",
       "      <td>https://cdn.myanimelist.net/images/anime/1332/...</td>\n",
       "      <td>TV</td>\n",
       "      <td>Original</td>\n",
       "      <td>NaN</td>\n",
       "      <td>Currently Airing</td>\n",
       "      <td>2022-02-06 00:00:00</td>\n",
       "      <td>...</td>\n",
       "      <td>99</td>\n",
       "      <td>148</td>\n",
       "      <td>70</td>\n",
       "      <td>38</td>\n",
       "      <td>19</td>\n",
       "      <td>7</td>\n",
       "      <td>4</td>\n",
       "      <td>10</td>\n",
       "      <td>['27907', '8652', '22866', '2167', '31353']</td>\n",
       "      <td>https://cdn.myanimelist.net/images/anime/1872/...</td>\n",
       "    </tr>\n",
       "    <tr>\n",
       "      <th>592</th>\n",
       "      <td>49285</td>\n",
       "      <td>https://myanimelist.net/anime/49285/Waccha_Pri...</td>\n",
       "      <td>Waccha PriMagi!</td>\n",
       "      <td>The new series continues the Pretty Series' co...</td>\n",
       "      <td>https://cdn.myanimelist.net/images/anime/1522/...</td>\n",
       "      <td>TV</td>\n",
       "      <td>Original</td>\n",
       "      <td>NaN</td>\n",
       "      <td>Currently Airing</td>\n",
       "      <td>2021-10-03 00:00:00</td>\n",
       "      <td>...</td>\n",
       "      <td>54</td>\n",
       "      <td>76</td>\n",
       "      <td>68</td>\n",
       "      <td>70</td>\n",
       "      <td>43</td>\n",
       "      <td>38</td>\n",
       "      <td>17</td>\n",
       "      <td>15</td>\n",
       "      <td>['27907']</td>\n",
       "      <td>https://cdn.myanimelist.net/images/anime/1848/...</td>\n",
       "    </tr>\n",
       "    <tr>\n",
       "      <th>...</th>\n",
       "      <td>...</td>\n",
       "      <td>...</td>\n",
       "      <td>...</td>\n",
       "      <td>...</td>\n",
       "      <td>...</td>\n",
       "      <td>...</td>\n",
       "      <td>...</td>\n",
       "      <td>...</td>\n",
       "      <td>...</td>\n",
       "      <td>...</td>\n",
       "      <td>...</td>\n",
       "      <td>...</td>\n",
       "      <td>...</td>\n",
       "      <td>...</td>\n",
       "      <td>...</td>\n",
       "      <td>...</td>\n",
       "      <td>...</td>\n",
       "      <td>...</td>\n",
       "      <td>...</td>\n",
       "      <td>...</td>\n",
       "      <td>...</td>\n",
       "    </tr>\n",
       "    <tr>\n",
       "      <th>9557</th>\n",
       "      <td>30088</td>\n",
       "      <td>https://myanimelist.net/anime/30088/Ryoutei_no...</td>\n",
       "      <td>Ryoutei no Aji</td>\n",
       "      <td>Short stories capturing the bittersweet and te...</td>\n",
       "      <td>https://cdn.myanimelist.net/images/anime/12/72...</td>\n",
       "      <td>Special</td>\n",
       "      <td>Original</td>\n",
       "      <td>NaN</td>\n",
       "      <td>Currently Airing</td>\n",
       "      <td>2014-03-28 00:00:00</td>\n",
       "      <td>...</td>\n",
       "      <td>121</td>\n",
       "      <td>168</td>\n",
       "      <td>111</td>\n",
       "      <td>66</td>\n",
       "      <td>17</td>\n",
       "      <td>7</td>\n",
       "      <td>9</td>\n",
       "      <td>13</td>\n",
       "      <td>['57827']</td>\n",
       "      <td>https://cdn.myanimelist.net/images/anime/12/72...</td>\n",
       "    </tr>\n",
       "    <tr>\n",
       "      <th>9701</th>\n",
       "      <td>37706</td>\n",
       "      <td>https://myanimelist.net/anime/37706/Akuma_no_K...</td>\n",
       "      <td>Akuma no Kimuraa-hen</td>\n",
       "      <td>A cup noodle commercials where [Kuro] Hiyoko-c...</td>\n",
       "      <td>https://cdn.myanimelist.net/images/anime/1986/...</td>\n",
       "      <td>Special</td>\n",
       "      <td>Original</td>\n",
       "      <td>NaN</td>\n",
       "      <td>Currently Airing</td>\n",
       "      <td>2018-04-06 00:00:00</td>\n",
       "      <td>...</td>\n",
       "      <td>66</td>\n",
       "      <td>139</td>\n",
       "      <td>121</td>\n",
       "      <td>82</td>\n",
       "      <td>28</td>\n",
       "      <td>21</td>\n",
       "      <td>11</td>\n",
       "      <td>17</td>\n",
       "      <td>['57827', '65409']</td>\n",
       "      <td>https://cdn.myanimelist.net/images/anime/1986/...</td>\n",
       "    </tr>\n",
       "    <tr>\n",
       "      <th>9875</th>\n",
       "      <td>33904</td>\n",
       "      <td>https://myanimelist.net/anime/33904/Suntory_Te...</td>\n",
       "      <td>Suntory Tennensui CMs</td>\n",
       "      <td>Suntory commercials set in the alps.  Shinji R...</td>\n",
       "      <td>https://cdn.myanimelist.net/images/anime/2/815...</td>\n",
       "      <td>Special</td>\n",
       "      <td>Original</td>\n",
       "      <td>NaN</td>\n",
       "      <td>Currently Airing</td>\n",
       "      <td>2014-03-28 00:00:00</td>\n",
       "      <td>...</td>\n",
       "      <td>4</td>\n",
       "      <td>27</td>\n",
       "      <td>54</td>\n",
       "      <td>124</td>\n",
       "      <td>44</td>\n",
       "      <td>22</td>\n",
       "      <td>12</td>\n",
       "      <td>24</td>\n",
       "      <td>['57827']</td>\n",
       "      <td>https://cdn.myanimelist.net/images/anime/2/815...</td>\n",
       "    </tr>\n",
       "    <tr>\n",
       "      <th>10068</th>\n",
       "      <td>35300</td>\n",
       "      <td>https://myanimelist.net/anime/35300/Magia_Reco...</td>\n",
       "      <td>Magia Record: Mahou Shoujo Madoka☆Magica Gaiden</td>\n",
       "      <td>The new heroine of is Iroha, a magical girl on...</td>\n",
       "      <td>https://cdn.myanimelist.net/images/anime/3/850...</td>\n",
       "      <td>Special</td>\n",
       "      <td>Game</td>\n",
       "      <td>NaN</td>\n",
       "      <td>Currently Airing</td>\n",
       "      <td>2016-09-30 00:00:00</td>\n",
       "      <td>...</td>\n",
       "      <td>103</td>\n",
       "      <td>170</td>\n",
       "      <td>205</td>\n",
       "      <td>146</td>\n",
       "      <td>53</td>\n",
       "      <td>33</td>\n",
       "      <td>21</td>\n",
       "      <td>35</td>\n",
       "      <td>['5450', '79626', '57827', '30325', '79532', '...</td>\n",
       "      <td>https://cdn.myanimelist.net/images/anime/3/850...</td>\n",
       "    </tr>\n",
       "    <tr>\n",
       "      <th>10424</th>\n",
       "      <td>36064</td>\n",
       "      <td>https://myanimelist.net/anime/36064/Fate_Grand...</td>\n",
       "      <td>Fate/Grand Order</td>\n",
       "      <td>Assorted commercials and collaborations for th...</td>\n",
       "      <td>https://cdn.myanimelist.net/images/anime/1405/...</td>\n",
       "      <td>Special</td>\n",
       "      <td>Game</td>\n",
       "      <td>NaN</td>\n",
       "      <td>Currently Airing</td>\n",
       "      <td>2014-12-27 00:00:00</td>\n",
       "      <td>...</td>\n",
       "      <td>1259</td>\n",
       "      <td>1369</td>\n",
       "      <td>577</td>\n",
       "      <td>274</td>\n",
       "      <td>74</td>\n",
       "      <td>55</td>\n",
       "      <td>31</td>\n",
       "      <td>82</td>\n",
       "      <td>['68293', '5450', '79626', '82156', '57827', '...</td>\n",
       "      <td>https://cdn.myanimelist.net/images/anime/13/87...</td>\n",
       "    </tr>\n",
       "  </tbody>\n",
       "</table>\n",
       "<p>65 rows × 38 columns</p>\n",
       "</div>"
      ],
      "text/plain": [
       "       anime_id                                          anime_url  \\\n",
       "127       42295  https://myanimelist.net/anime/42295/Fushigi_Da...   \n",
       "354       48365  https://myanimelist.net/anime/48365/Youkai_Wat...   \n",
       "385       50418     https://myanimelist.net/anime/50418/Ninjala_TV   \n",
       "391       50281  https://myanimelist.net/anime/50281/Delicious_...   \n",
       "592       49285  https://myanimelist.net/anime/49285/Waccha_Pri...   \n",
       "...         ...                                                ...   \n",
       "9557      30088  https://myanimelist.net/anime/30088/Ryoutei_no...   \n",
       "9701      37706  https://myanimelist.net/anime/37706/Akuma_no_K...   \n",
       "9875      33904  https://myanimelist.net/anime/33904/Suntory_Te...   \n",
       "10068     35300  https://myanimelist.net/anime/35300/Magia_Reco...   \n",
       "10424     36064  https://myanimelist.net/anime/36064/Fate_Grand...   \n",
       "\n",
       "                                                 title  \\\n",
       "127                      Fushigi Dagashiya: Zenitendou   \n",
       "354                                     Youkai Watch ♪   \n",
       "385                                       Ninjala (TV)   \n",
       "391                            Delicious Party♡Precure   \n",
       "592                                    Waccha PriMagi!   \n",
       "...                                                ...   \n",
       "9557                                    Ryoutei no Aji   \n",
       "9701                              Akuma no Kimuraa-hen   \n",
       "9875                             Suntory Tennensui CMs   \n",
       "10068  Magia Record: Mahou Shoujo Madoka☆Magica Gaiden   \n",
       "10424                                 Fate/Grand Order   \n",
       "\n",
       "                                                synopsis  \\\n",
       "127    Zenitendo is a mysterious candy store that onl...   \n",
       "354    The new show will feature unique and returning...   \n",
       "385    The year is 20XX. The ninja, who once forged t...   \n",
       "391                                                    .   \n",
       "592    The new series continues the Pretty Series' co...   \n",
       "...                                                  ...   \n",
       "9557   Short stories capturing the bittersweet and te...   \n",
       "9701   A cup noodle commercials where [Kuro] Hiyoko-c...   \n",
       "9875   Suntory commercials set in the alps.  Shinji R...   \n",
       "10068  The new heroine of is Iroha, a magical girl on...   \n",
       "10424  Assorted commercials and collaborations for th...   \n",
       "\n",
       "                                                main_pic     type source_type  \\\n",
       "127    https://cdn.myanimelist.net/images/anime/1994/...       TV       Novel   \n",
       "354    https://cdn.myanimelist.net/images/anime/1682/...       TV        Game   \n",
       "385    https://cdn.myanimelist.net/images/anime/1552/...       TV        Game   \n",
       "391    https://cdn.myanimelist.net/images/anime/1332/...       TV    Original   \n",
       "592    https://cdn.myanimelist.net/images/anime/1522/...       TV    Original   \n",
       "...                                                  ...      ...         ...   \n",
       "9557   https://cdn.myanimelist.net/images/anime/12/72...  Special    Original   \n",
       "9701   https://cdn.myanimelist.net/images/anime/1986/...  Special    Original   \n",
       "9875   https://cdn.myanimelist.net/images/anime/2/815...  Special    Original   \n",
       "10068  https://cdn.myanimelist.net/images/anime/3/850...  Special        Game   \n",
       "10424  https://cdn.myanimelist.net/images/anime/1405/...  Special        Game   \n",
       "\n",
       "       num_episodes            status           start_date  ...  \\\n",
       "127             NaN  Currently Airing  2020-09-08 00:00:00  ...   \n",
       "354             NaN  Currently Airing  2021-04-09 00:00:00  ...   \n",
       "385             NaN  Currently Airing  2022-01-08 00:00:00  ...   \n",
       "391             NaN  Currently Airing  2022-02-06 00:00:00  ...   \n",
       "592             NaN  Currently Airing  2021-10-03 00:00:00  ...   \n",
       "...             ...               ...                  ...  ...   \n",
       "9557            NaN  Currently Airing  2014-03-28 00:00:00  ...   \n",
       "9701            NaN  Currently Airing  2018-04-06 00:00:00  ...   \n",
       "9875            NaN  Currently Airing  2014-03-28 00:00:00  ...   \n",
       "10068           NaN  Currently Airing  2016-09-30 00:00:00  ...   \n",
       "10424           NaN  Currently Airing  2014-12-27 00:00:00  ...   \n",
       "\n",
       "      score_08_count score_07_count score_06_count score_05_count  \\\n",
       "127                8             27             36             16   \n",
       "354               45             70             70             45   \n",
       "385               15             31             49             34   \n",
       "391               99            148             70             38   \n",
       "592               54             76             68             70   \n",
       "...              ...            ...            ...            ...   \n",
       "9557             121            168            111             66   \n",
       "9701              66            139            121             82   \n",
       "9875               4             27             54            124   \n",
       "10068            103            170            205            146   \n",
       "10424           1259           1369            577            274   \n",
       "\n",
       "       score_04_count  score_03_count  score_02_count  score_01_count  \\\n",
       "127                15               4               7               6   \n",
       "354                17              13              11              10   \n",
       "385                23               6              10              10   \n",
       "391                19               7               4              10   \n",
       "592                43              38              17              15   \n",
       "...               ...             ...             ...             ...   \n",
       "9557               17               7               9              13   \n",
       "9701               28              21              11              17   \n",
       "9875               44              22              12              24   \n",
       "10068              53              33              21              35   \n",
       "10424              74              55              31              82   \n",
       "\n",
       "                                                   clubs  \\\n",
       "127                                            ['27907']   \n",
       "354                                   ['27907', '17659']   \n",
       "385                           ['27907', '8652', '72473']   \n",
       "391          ['27907', '8652', '22866', '2167', '31353']   \n",
       "592                                            ['27907']   \n",
       "...                                                  ...   \n",
       "9557                                           ['57827']   \n",
       "9701                                  ['57827', '65409']   \n",
       "9875                                           ['57827']   \n",
       "10068  ['5450', '79626', '57827', '30325', '79532', '...   \n",
       "10424  ['68293', '5450', '79626', '82156', '57827', '...   \n",
       "\n",
       "                                                    pics  \n",
       "127    https://cdn.myanimelist.net/images/anime/1994/...  \n",
       "354    https://cdn.myanimelist.net/images/anime/1271/...  \n",
       "385    https://cdn.myanimelist.net/images/anime/1602/...  \n",
       "391    https://cdn.myanimelist.net/images/anime/1872/...  \n",
       "592    https://cdn.myanimelist.net/images/anime/1848/...  \n",
       "...                                                  ...  \n",
       "9557   https://cdn.myanimelist.net/images/anime/12/72...  \n",
       "9701   https://cdn.myanimelist.net/images/anime/1986/...  \n",
       "9875   https://cdn.myanimelist.net/images/anime/2/815...  \n",
       "10068  https://cdn.myanimelist.net/images/anime/3/850...  \n",
       "10424  https://cdn.myanimelist.net/images/anime/13/87...  \n",
       "\n",
       "[65 rows x 38 columns]"
      ]
     },
     "execution_count": 24,
     "metadata": {},
     "output_type": "execute_result"
    }
   ],
   "source": [
    "df2[df2['num_episodes'].isna() | (df2['num_episodes'] == 0)]"
   ]
  },
  {
   "cell_type": "code",
   "execution_count": 28,
   "id": "6894a6c9-c6b4-4251-a2d6-bd5a80996b82",
   "metadata": {},
   "outputs": [],
   "source": [
    "df2['num_episodes'] = df2['num_episodes'].astype(str).fillna(\"Unknown\")  # Fix NaN issue\n",
    "df2.to_csv(\"your_dataset.csv\", index=False)  # Overwrites the original dataset\n"
   ]
  },
  {
   "cell_type": "code",
   "execution_count": 29,
   "id": "f143ff7a-010a-4553-b5ff-311899f91dc6",
   "metadata": {},
   "outputs": [
    {
     "name": "stdout",
     "output_type": "stream",
     "text": [
      "anime_id                  0\n",
      "anime_url                 0\n",
      "title                     0\n",
      "synopsis                  2\n",
      "main_pic                  0\n",
      "type                      0\n",
      "source_type               0\n",
      "num_episodes              0\n",
      "status                    0\n",
      "start_date                0\n",
      "end_date                 93\n",
      "season                 7008\n",
      "studios                1506\n",
      "genres                    0\n",
      "score                     0\n",
      "score_count               0\n",
      "score_rank             1249\n",
      "popularity_rank           0\n",
      "members_count             0\n",
      "favorites_count           0\n",
      "watching_count            0\n",
      "completed_count           0\n",
      "on_hold_count             0\n",
      "dropped_count             0\n",
      "plan_to_watch_count       0\n",
      "total_count               0\n",
      "score_10_count            0\n",
      "score_09_count            0\n",
      "score_08_count            0\n",
      "score_07_count            0\n",
      "score_06_count            0\n",
      "score_05_count            0\n",
      "score_04_count            0\n",
      "score_03_count            0\n",
      "score_02_count            0\n",
      "score_01_count            0\n",
      "clubs                   843\n",
      "pics                      0\n",
      "dtype: int64\n"
     ]
    }
   ],
   "source": [
    "print(df2.isnull().sum())"
   ]
  },
  {
   "cell_type": "code",
   "execution_count": 30,
   "id": "4777f0b6-d2a5-4c0d-8c1f-25b7ef203ee8",
   "metadata": {},
   "outputs": [
    {
     "name": "stdout",
     "output_type": "stream",
     "text": [
      "           anime_id         score   score_count    score_rank  \\\n",
      "count  10714.000000  10714.000000  1.071400e+04   9465.000000   \n",
      "mean   19361.731753      6.561258  3.728666e+04   5544.653883   \n",
      "std    15723.362037      0.985277  1.229652e+05   3528.083235   \n",
      "min        1.000000      1.850000  1.010000e+02      1.000000   \n",
      "25%     3672.250000      6.020000  8.315000e+02   2483.000000   \n",
      "50%    15694.000000      6.650000  3.486500e+03   5208.000000   \n",
      "75%    34758.750000      7.250000  1.989225e+04   8394.000000   \n",
      "max    51296.000000      9.050000  2.380891e+06  12406.000000   \n",
      "\n",
      "       popularity_rank  members_count  favorites_count  watching_count  \\\n",
      "count     10714.000000   1.071400e+04     10714.000000    1.071400e+04   \n",
      "mean       6054.510454   7.151474e+04       848.711592    4.497909e+03   \n",
      "std        3873.499103   2.022233e+05      5826.392574    2.077321e+04   \n",
      "min           1.000000   2.060000e+02         0.000000    1.000000e+00   \n",
      "25%        2742.250000   2.563750e+03         3.000000    1.070000e+02   \n",
      "50%        5689.500000   9.068000e+03        16.000000    4.250000e+02   \n",
      "75%        9045.500000   4.477675e+04       113.000000    1.790000e+03   \n",
      "max       16422.000000   3.329298e+06    197551.000000    1.225976e+06   \n",
      "\n",
      "       completed_count  on_hold_count  ...  score_10_count  score_09_count  \\\n",
      "count     1.071400e+04   10714.000000  ...    10714.000000    10714.000000   \n",
      "mean      4.619033e+04    1921.014187  ...     5271.460146     6726.820235   \n",
      "std       1.490171e+05    6645.340613  ...    28012.247978    30176.059579   \n",
      "min       0.000000e+00       0.000000  ...        1.000000        0.000000   \n",
      "25%       1.083250e+03      64.000000  ...       47.000000       36.000000   \n",
      "50%       4.581500e+03     238.000000  ...      243.000000      236.000000   \n",
      "75%       2.550400e+04     926.750000  ...     1551.000000     1923.750000   \n",
      "max       2.905060e+06  234422.000000  ...   875328.000000   699881.000000   \n",
      "\n",
      "       score_08_count  score_07_count  score_06_count  score_05_count  \\\n",
      "count    10714.000000    10714.000000    10714.000000    10714.000000   \n",
      "mean      9427.105469     8140.076442     3970.616016     1966.792514   \n",
      "std      32975.271726    23007.684474    10345.203331     5174.779067   \n",
      "min          0.000000        1.000000        5.000000        3.000000   \n",
      "25%         80.000000      160.000000      163.000000      127.000000   \n",
      "50%        513.000000      851.000000      642.000000      377.000000   \n",
      "75%       3999.750000     5244.250000     2933.500000     1527.000000   \n",
      "max     613059.000000   387608.000000   238248.000000   155460.000000   \n",
      "\n",
      "       score_04_count  score_03_count  score_02_count  score_01_count  \n",
      "count    10714.000000    10714.000000    10714.000000    10714.000000  \n",
      "mean       883.838996      406.890424      239.974053      253.085869  \n",
      "std       2804.461936     1405.881377      911.446782     1145.165097  \n",
      "min          1.000000        0.000000        0.000000        0.000000  \n",
      "25%         54.000000       27.000000       16.000000       18.000000  \n",
      "50%        151.000000       75.000000       45.000000       46.000000  \n",
      "75%        595.000000      265.000000      148.000000      146.000000  \n",
      "max     100101.000000    53437.000000    30218.000000    43363.000000  \n",
      "\n",
      "[8 rows x 23 columns]\n"
     ]
    }
   ],
   "source": [
    "print(df2.describe())  # Gives statistics for numerical columns\n"
   ]
  },
  {
   "cell_type": "code",
   "execution_count": 31,
   "id": "98d57f79-7871-493a-b412-fffea7ad5e16",
   "metadata": {},
   "outputs": [
    {
     "name": "stdout",
     "output_type": "stream",
     "text": [
      "['TV' 'ONA' 'OVA' 'Movie' 'Special']\n",
      "['Winter 2021' 'Fall 2015' 'Summer 2011' 'Fall 2004' 'Fall 2014'\n",
      " 'Fall 2013' 'Spring 1998' 'Spring 2011' 'Spring 1988' 'Spring 2019'\n",
      " 'Summer 2017' 'Spring 2013' 'Spring 2007' 'Fall 2008' 'Spring 2020'\n",
      " 'Fall 2020' 'Fall 2018' 'Winter 1987' 'Winter 2012' 'Winter 2015'\n",
      " 'Winter 2009' 'Fall 1993' 'Spring 2004' 'Winter 1983' 'Fall 2001'\n",
      " 'Spring 2010' 'Fall 1991' 'Fall 1976' 'Winter 1996' 'Fall 1983'\n",
      " 'Winter 2000' 'Spring 2014' 'Winter 2020' 'Fall 2016' 'Winter 2022'\n",
      " 'Summer 2016' 'Spring 2006' 'Fall 2009' 'Spring 2003' 'Spring 2000'\n",
      " 'Fall 1968' 'Winter 1991' 'Fall 1982' 'Fall 1985' 'Spring 1994'\n",
      " 'Winter 1994' 'Spring 1993' 'Winter 1999' 'Summer 2004' 'Summer 2012'\n",
      " 'Spring 2021' 'Fall 1990' 'Spring 1995' 'Fall 1986' 'Spring 1982'\n",
      " 'Winter 1993' 'Winter 1984' 'Fall 1987' 'None None' 'Winter 2006'\n",
      " 'Summer 2001' 'Summer 2005' 'Fall 1979' 'Summer 2013' 'Fall 2019'\n",
      " 'Fall 2021' 'Fall 2003' 'Winter 2018' 'Spring 1999' 'Spring 1986'\n",
      " 'Spring 2005' 'Spring 2017' 'Spring 1990' 'Fall 1992' 'Spring 1991'\n",
      " 'Summer 2008' 'Spring 2001' 'Fall 1996' 'Winter 1977' 'Spring 1969'\n",
      " 'Fall 1980' 'Fall 2007' 'Fall 2017' 'Summer 1999' 'Winter 1980'\n",
      " 'Fall 1995' 'Fall 1988' 'Winter 2004' 'Fall 2012' 'Spring 1997'\n",
      " 'Fall 1973' 'Spring 2015' 'Spring 2002' 'Spring 2018' 'Summer 1982'\n",
      " 'Winter 2008' 'Spring 1981' 'Fall 1997' 'Fall 2006' 'Summer 1978'\n",
      " 'Fall 1999' 'Fall 1998' 'Winter 1978' 'Spring 1984' 'Spring 1992'\n",
      " 'Spring 1985' 'Winter 1995' 'Summer 1998' 'Summer 2009' 'Fall 1978'\n",
      " 'Spring 1980' 'Fall 1981' 'Spring 1979' 'Summer 2003' 'Spring 2012'\n",
      " 'Winter 2013' 'Summer 2019' 'Spring 2009' 'Summer 2006' 'Summer 1981'\n",
      " 'Fall 2000' 'Spring 1977' 'Summer 1984' 'Winter 1990' 'Winter 1989'\n",
      " 'Fall 1977' 'Summer 1983' 'Spring 1996' 'Summer 1988' 'Spring 1983'\n",
      " 'Winter 2005' 'Summer 2014' 'Winter 2019' 'Summer 2015' 'Spring 1978'\n",
      " 'Fall 1974' 'Summer 1979' 'Fall 1984' 'Summer 1980' 'Summer 2010'\n",
      " 'Winter 1998' 'Winter 2016' 'Spring 1968' 'Spring 1976' 'Spring 2008'\n",
      " 'Spring 1987' 'Summer 1994' 'Fall 2010' 'Winter 2017' 'Spring 1974'\n",
      " 'Winter 2003' 'Winter 2001' 'Winter 1982' 'Summer 2007' 'Summer 1995'\n",
      " 'Spring 1971' 'Fall 1971' 'Winter 2007' 'Fall 2005' 'Winter 1967'\n",
      " 'Winter 2010' 'Spring 1989' 'Spring 1975' 'Summer 2018' 'Fall 2002'\n",
      " 'Summer 1996' 'Summer 1965' 'Winter 1976' 'Summer 1990' 'Fall 1972'\n",
      " 'Fall 1989' 'Winter 2011' 'Winter 1975' 'Winter 1981' 'Summer 1985'\n",
      " 'Summer 1986' 'Winter 2014' 'Fall 1975' 'Summer 2020' 'Winter 1992'\n",
      " 'Fall 2011' 'Winter 1988' 'Spring 2016' 'Winter 1979' 'Spring 1967'\n",
      " 'Winter 1964' 'Summer 1997' 'Summer 2002' 'Winter 2002' 'Spring 1961'\n",
      " 'Winter 1997' 'Winter 1972' 'Summer 1977' 'Summer 1962' 'Fall 1963'\n",
      " 'Spring 1972' 'Winter 1986' 'Summer 1966' 'Fall 1994' 'Winter 1968'\n",
      " 'Spring 1964' 'Summer 1987' 'Summer 1975' 'Summer 2000' 'Winter 1966'\n",
      " 'Fall 1969' 'Fall 1966' 'Spring 1970' 'Summer 2021' 'Winter 1970'\n",
      " 'Fall 1965' 'Winter 1985' 'Winter 1973' 'spring 2009' 'Winter 1963'\n",
      " 'Spring 1973' 'Summer 1991' 'Winter 1974' 'Summer 1972' nan]\n"
     ]
    }
   ],
   "source": [
    "print(df2['type'].unique())  # See unique anime types (TV, Movie, OVA, etc.)\n",
    "print(df2['season'].unique())  # See the different seasons in the dataset\n"
   ]
  },
  {
   "cell_type": "code",
   "execution_count": 32,
   "id": "fae03585-634a-46f9-a0a9-9ab5aeba5b1d",
   "metadata": {},
   "outputs": [
    {
     "name": "stdout",
     "output_type": "stream",
     "text": [
      "[(\"'\", 69144), (' ', 27844), (',', 23858), ('e', 23024), ('o', 20523), ('a', 19245), ('n', 16948), ('i', 16853), ('c', 13905), ('t', 13283)]\n"
     ]
    }
   ],
   "source": [
    "from collections import Counter\n",
    "genre_counts = Counter([g for sublist in df2['genres'] for g in sublist])\n",
    "print(genre_counts.most_common(10))  # Top 10 most frequent genres\n"
   ]
  },
  {
   "cell_type": "code",
   "execution_count": 33,
   "id": "c87f74cb-2230-465e-8264-8e4c191e8100",
   "metadata": {},
   "outputs": [
    {
     "name": "stdout",
     "output_type": "stream",
     "text": [
      "                                            title  score\n",
      "1351           Shingeki no Kyojin Season 3 Part 2   9.05\n",
      "3648             Fullmetal Alchemist: Brotherhood   9.03\n",
      "2770  Shingeki no Kyojin: The Final Season Part 2   9.02\n",
      "1663                                  Steins;Gate   8.98\n",
      "1973                       Hunter x Hunter (2011)   8.96\n",
      "9088                               Koe no Katachi   8.94\n",
      "8983                      Violet Evergarden Movie   8.93\n",
      "2890                     Fruits Basket: The Final   8.93\n",
      "2854                          Gintama': Enchousen   8.92\n",
      "1618                   3-gatsu no Lion 2nd Season   8.90\n"
     ]
    }
   ],
   "source": [
    "print(df2[['title', 'score']].sort_values(by='score', ascending=False).head(10))\n"
   ]
  },
  {
   "cell_type": "code",
   "execution_count": 10,
   "id": "1c135c88-8c94-4190-be44-d3263d0596d4",
   "metadata": {},
   "outputs": [],
   "source": [
    "df2 = pd.read_csv(\"cleaned_anime_data_01.csv\")"
   ]
  },
  {
   "cell_type": "code",
   "execution_count": 3,
   "id": "ba3e640a-3ef4-4ea5-9fe0-dfb36ac2ee55",
   "metadata": {},
   "outputs": [
    {
     "name": "stdout",
     "output_type": "stream",
     "text": [
      "object\n"
     ]
    }
   ],
   "source": [
    "print(df2['genres'].dtype)  # Check the overall data type\n"
   ]
  },
  {
   "cell_type": "code",
   "execution_count": 4,
   "id": "98292236-49bf-45c3-a8bb-90acab691eff",
   "metadata": {},
   "outputs": [
    {
     "name": "stdout",
     "output_type": "stream",
     "text": [
      "<class 'str'>\n"
     ]
    }
   ],
   "source": [
    "print(type(df2['genres'].iloc[0]))  # Check the type of the first row's genre value\n"
   ]
  },
  {
   "cell_type": "markdown",
   "id": "f7d68c03-98bd-41d4-9cc0-16ab3dcf2985",
   "metadata": {},
   "source": [
    "So the problem is, the column 'genres' is in str and not list so when accessing it, we're only getting 1 character at a  time."
   ]
  },
  {
   "cell_type": "code",
   "execution_count": 11,
   "id": "f3e52eaa-30a5-41a1-8252-45d53e4973a2",
   "metadata": {},
   "outputs": [],
   "source": [
    "import ast\n",
    "\n",
    "df2['genres'] = df2['genres'].apply(lambda x: ast.literal_eval(x) if isinstance(x, str) else x)\n"
   ]
  },
  {
   "cell_type": "code",
   "execution_count": 12,
   "id": "7212cad6-417c-432c-9888-84e3be2378a2",
   "metadata": {},
   "outputs": [
    {
     "name": "stdout",
     "output_type": "stream",
     "text": [
      "<class 'list'>\n"
     ]
    }
   ],
   "source": [
    "print(type(df2['genres'].iloc[0]))\n"
   ]
  },
  {
   "cell_type": "markdown",
   "id": "82bea04f-61b9-4657-b713-b961ccfb00ee",
   "metadata": {},
   "source": [
    "Converted to list and saved it."
   ]
  },
  {
   "cell_type": "code",
   "execution_count": 13,
   "id": "f43ad3cf-1c99-4b5a-9e2e-bfecfe6625eb",
   "metadata": {},
   "outputs": [],
   "source": [
    "df2.to_csv(\"cleaned_anime_data_01.csv\", index=False)  # Saves without the index column\n"
   ]
  },
  {
   "cell_type": "code",
   "execution_count": 19,
   "id": "a50fe667-d07e-4c9a-b47f-5b93619c1b57",
   "metadata": {},
   "outputs": [],
   "source": [
    "df3 = pd.read_csv(\"cleaned_anime_data_01.csv\")\n"
   ]
  },
  {
   "cell_type": "code",
   "execution_count": 20,
   "id": "820b771b-435f-41eb-9d20-66a535a727b0",
   "metadata": {},
   "outputs": [
    {
     "name": "stdout",
     "output_type": "stream",
     "text": [
      "<class 'str'>\n"
     ]
    }
   ],
   "source": [
    "print(type(df3['genres'].iloc[0]))"
   ]
  },
  {
   "cell_type": "markdown",
   "id": "28629001-eb1a-46de-a1cd-0733a70e41ee",
   "metadata": {},
   "source": [
    "in the new instance of the saved dataset, d3, the column still shows up as str and not list. this is because csv converts all lists back to str when saved. So have to keep converting it to list if needed."
   ]
  },
  {
   "cell_type": "markdown",
   "id": "445f885a-7e9d-4850-b0c0-8db49834e25a",
   "metadata": {},
   "source": [
    "Use Parquet for Large-Scale ML Projects\n",
    "ML engineers working with big datasets (millions of rows) use Parquet instead of CSV because it:\n",
    "\n",
    "1. Stores lists & nested data directly (no conversion needed)\n",
    "\n",
    "2. Loads way faster than CSV\n",
    "\n",
    "3. Uses less disk space\n"
   ]
  },
  {
   "cell_type": "code",
   "execution_count": null,
   "id": "7d91b714-89d9-4431-b6d2-1dd13a6bfb4e",
   "metadata": {},
   "outputs": [],
   "source": [
    "import pandas as pd\n",
    "import ast\n",
    "\n",
    "# Load CSV\n",
    "df = pd.read_csv('cleaned_anime_data_01.csv')\n",
    "\n",
    "# Convert 'genres' from string to list\n",
    "df['genres'] = df['genres'].apply(lambda x: ast.literal_eval(x) if isinstance(x, str) else x)\n",
    "\n",
    "# Save to Parquet\n",
    "df.to_parquet(\"cleaned_anime_data.parquet\", engine=\"pyarrow\")\n",
    "\n",
    "# Load Parquet\n",
    "df2 = pd.read_parquet(\"cleaned_anime_data.parquet\", engine=\"pyarrow\")\n",
    "\n",
    "# Check if 'genres' is a list now\n",
    "print(type(df2['genres'].iloc[0]))  # Should print <class 'list'>\n"
   ]
  },
  {
   "cell_type": "markdown",
   "id": "9a5c9011-a59a-438e-bb8d-bfb2c18f4607",
   "metadata": {},
   "source": [
    "<class 'numpy.ndarray'>"
   ]
  },
  {
   "cell_type": "code",
   "execution_count": null,
   "id": "a38cefc2-6c8b-4b18-9c2b-ca707422893b",
   "metadata": {},
   "outputs": [],
   "source": [
    "from collections import Counter\n",
    "genre_counts = Counter([g for sublist in df2['genres'] for g in sublist])\n",
    "print(genre_counts.most_common(10))  # Top 10 most frequent genres"
   ]
  },
  {
   "cell_type": "markdown",
   "id": "f4545c6b-1717-4e95-baaa-91287b14c39c",
   "metadata": {},
   "source": [
    "[('Comedy', 4165), ('Action', 3123), ('Fantasy', 2294), ('Adventure', 1993), ('Drama', 1926), ('Sci-Fi', 1868), ('Romance', 1649), ('Shounen', 1587), ('School', 1414), ('Slice of Life', 1332)]"
   ]
  },
  {
   "cell_type": "code",
   "execution_count": null,
   "id": "685c163e-96f1-40a1-aebd-5ca1bcffccc6",
   "metadata": {},
   "outputs": [],
   "source": [
    "df = pd.read_parquet(\"cleaned_anime_data.parquet\")"
   ]
  }
 ],
 "metadata": {
  "kernelspec": {
   "display_name": "Python 3 (ipykernel)",
   "language": "python",
   "name": "python3"
  },
  "language_info": {
   "codemirror_mode": {
    "name": "ipython",
    "version": 3
   },
   "file_extension": ".py",
   "mimetype": "text/x-python",
   "name": "python",
   "nbconvert_exporter": "python",
   "pygments_lexer": "ipython3",
   "version": "3.9.21"
  }
 },
 "nbformat": 4,
 "nbformat_minor": 5
}
