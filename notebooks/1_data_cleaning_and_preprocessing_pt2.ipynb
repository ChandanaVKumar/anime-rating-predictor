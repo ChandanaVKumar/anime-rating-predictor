{
 "cells": [
  {
   "cell_type": "code",
   "execution_count": 1,
   "id": "0bb8c2f9-595c-4e38-889f-4773ad32f3f0",
   "metadata": {},
   "outputs": [],
   "source": [
    "import pandas as pd"
   ]
  },
  {
   "cell_type": "code",
   "execution_count": 2,
   "id": "4d14047e-18b2-4d6f-b1bf-d9ae078cbd1d",
   "metadata": {},
   "outputs": [],
   "source": [
    "df = pd.read_parquet(\"cleaned_anime_data.parquet\")"
   ]
  },
  {
   "cell_type": "code",
   "execution_count": 3,
   "id": "22e2425e-c69d-4f59-863f-c068105fd493",
   "metadata": {},
   "outputs": [
    {
     "data": {
      "text/html": [
       "<div>\n",
       "<style scoped>\n",
       "    .dataframe tbody tr th:only-of-type {\n",
       "        vertical-align: middle;\n",
       "    }\n",
       "\n",
       "    .dataframe tbody tr th {\n",
       "        vertical-align: top;\n",
       "    }\n",
       "\n",
       "    .dataframe thead th {\n",
       "        text-align: right;\n",
       "    }\n",
       "</style>\n",
       "<table border=\"1\" class=\"dataframe\">\n",
       "  <thead>\n",
       "    <tr style=\"text-align: right;\">\n",
       "      <th></th>\n",
       "      <th>anime_id</th>\n",
       "      <th>anime_url</th>\n",
       "      <th>title</th>\n",
       "      <th>synopsis</th>\n",
       "      <th>main_pic</th>\n",
       "      <th>type</th>\n",
       "      <th>source_type</th>\n",
       "      <th>num_episodes</th>\n",
       "      <th>status</th>\n",
       "      <th>start_date</th>\n",
       "      <th>...</th>\n",
       "      <th>score_08_count</th>\n",
       "      <th>score_07_count</th>\n",
       "      <th>score_06_count</th>\n",
       "      <th>score_05_count</th>\n",
       "      <th>score_04_count</th>\n",
       "      <th>score_03_count</th>\n",
       "      <th>score_02_count</th>\n",
       "      <th>score_01_count</th>\n",
       "      <th>clubs</th>\n",
       "      <th>pics</th>\n",
       "    </tr>\n",
       "  </thead>\n",
       "  <tbody>\n",
       "    <tr>\n",
       "      <th>0</th>\n",
       "      <td>41392</td>\n",
       "      <td>https://myanimelist.net/anime/41392/Urasekai_P...</td>\n",
       "      <td>Urasekai Picnic</td>\n",
       "      <td>The \"Otherworld\" is a vast and dangerous realm...</td>\n",
       "      <td>https://cdn.myanimelist.net/images/anime/1494/...</td>\n",
       "      <td>TV</td>\n",
       "      <td>Novel</td>\n",
       "      <td>12.0</td>\n",
       "      <td>Finished Airing</td>\n",
       "      <td>2021-01-04 00:00:00</td>\n",
       "      <td>...</td>\n",
       "      <td>4838</td>\n",
       "      <td>9071</td>\n",
       "      <td>7527</td>\n",
       "      <td>4185</td>\n",
       "      <td>1989</td>\n",
       "      <td>864</td>\n",
       "      <td>354</td>\n",
       "      <td>256</td>\n",
       "      <td>['76804', '27057', '31353', '80141', '81186']</td>\n",
       "      <td>https://cdn.myanimelist.net/images/anime/1655/...</td>\n",
       "    </tr>\n",
       "    <tr>\n",
       "      <th>1</th>\n",
       "      <td>30524</td>\n",
       "      <td>https://myanimelist.net/anime/30524/Kagewani</td>\n",
       "      <td>Kagewani</td>\n",
       "      <td>A video blogger attempts to fake cryptid sight...</td>\n",
       "      <td>https://cdn.myanimelist.net/images/anime/9/760...</td>\n",
       "      <td>TV</td>\n",
       "      <td>Original</td>\n",
       "      <td>13.0</td>\n",
       "      <td>Finished Airing</td>\n",
       "      <td>2015-10-02 00:00:00</td>\n",
       "      <td>...</td>\n",
       "      <td>1831</td>\n",
       "      <td>3193</td>\n",
       "      <td>2780</td>\n",
       "      <td>1701</td>\n",
       "      <td>1007</td>\n",
       "      <td>478</td>\n",
       "      <td>384</td>\n",
       "      <td>256</td>\n",
       "      <td>['14045', '6498', '78493', '39441', '65409', '...</td>\n",
       "      <td>https://cdn.myanimelist.net/images/anime/2/732...</td>\n",
       "    </tr>\n",
       "    <tr>\n",
       "      <th>2</th>\n",
       "      <td>10611</td>\n",
       "      <td>https://myanimelist.net/anime/10611/R-15</td>\n",
       "      <td>R-15</td>\n",
       "      <td>R-15 is about a boy, Taketo Akutagawa, who att...</td>\n",
       "      <td>https://cdn.myanimelist.net/images/anime/9/330...</td>\n",
       "      <td>TV</td>\n",
       "      <td>Light novel</td>\n",
       "      <td>12.0</td>\n",
       "      <td>Finished Airing</td>\n",
       "      <td>2011-07-10 00:00:00</td>\n",
       "      <td>...</td>\n",
       "      <td>5500</td>\n",
       "      <td>9656</td>\n",
       "      <td>8182</td>\n",
       "      <td>5013</td>\n",
       "      <td>2576</td>\n",
       "      <td>1253</td>\n",
       "      <td>789</td>\n",
       "      <td>512</td>\n",
       "      <td>['63421', '44237', '59057', '7538', '40745', '...</td>\n",
       "      <td>https://cdn.myanimelist.net/images/anime/10/29...</td>\n",
       "    </tr>\n",
       "    <tr>\n",
       "      <th>3</th>\n",
       "      <td>24</td>\n",
       "      <td>https://myanimelist.net/anime/24/School_Rumble</td>\n",
       "      <td>School Rumble</td>\n",
       "      <td>Just the words \"I love you,\" and everything ch...</td>\n",
       "      <td>https://cdn.myanimelist.net/images/anime/4/754...</td>\n",
       "      <td>TV</td>\n",
       "      <td>Manga</td>\n",
       "      <td>26.0</td>\n",
       "      <td>Finished Airing</td>\n",
       "      <td>2004-10-05 00:00:00</td>\n",
       "      <td>...</td>\n",
       "      <td>40848</td>\n",
       "      <td>29928</td>\n",
       "      <td>12268</td>\n",
       "      <td>5919</td>\n",
       "      <td>2114</td>\n",
       "      <td>841</td>\n",
       "      <td>504</td>\n",
       "      <td>512</td>\n",
       "      <td>['20081', '32683', '19736', '67029', '36987', ...</td>\n",
       "      <td>https://cdn.myanimelist.net/images/anime/9/204...</td>\n",
       "    </tr>\n",
       "    <tr>\n",
       "      <th>4</th>\n",
       "      <td>42203</td>\n",
       "      <td>https://myanimelist.net/anime/42203/Re_Zero_ka...</td>\n",
       "      <td>Re:Zero kara Hajimeru Isekai Seikatsu 2nd Seas...</td>\n",
       "      <td>After a stern yet compelling speech by Otto, S...</td>\n",
       "      <td>https://cdn.myanimelist.net/images/anime/1724/...</td>\n",
       "      <td>TV</td>\n",
       "      <td>Light novel</td>\n",
       "      <td>12.0</td>\n",
       "      <td>Finished Airing</td>\n",
       "      <td>2021-01-06 00:00:00</td>\n",
       "      <td>...</td>\n",
       "      <td>100500</td>\n",
       "      <td>43713</td>\n",
       "      <td>14458</td>\n",
       "      <td>5598</td>\n",
       "      <td>2777</td>\n",
       "      <td>1239</td>\n",
       "      <td>669</td>\n",
       "      <td>1280</td>\n",
       "      <td>['76804', '80863', '79626', '80141', '79209', ...</td>\n",
       "      <td>https://cdn.myanimelist.net/images/anime/1348/...</td>\n",
       "    </tr>\n",
       "  </tbody>\n",
       "</table>\n",
       "<p>5 rows × 38 columns</p>\n",
       "</div>"
      ],
      "text/plain": [
       "   anime_id                                          anime_url  \\\n",
       "0     41392  https://myanimelist.net/anime/41392/Urasekai_P...   \n",
       "1     30524       https://myanimelist.net/anime/30524/Kagewani   \n",
       "2     10611           https://myanimelist.net/anime/10611/R-15   \n",
       "3        24     https://myanimelist.net/anime/24/School_Rumble   \n",
       "4     42203  https://myanimelist.net/anime/42203/Re_Zero_ka...   \n",
       "\n",
       "                                               title  \\\n",
       "0                                    Urasekai Picnic   \n",
       "1                                           Kagewani   \n",
       "2                                               R-15   \n",
       "3                                      School Rumble   \n",
       "4  Re:Zero kara Hajimeru Isekai Seikatsu 2nd Seas...   \n",
       "\n",
       "                                            synopsis  \\\n",
       "0  The \"Otherworld\" is a vast and dangerous realm...   \n",
       "1  A video blogger attempts to fake cryptid sight...   \n",
       "2  R-15 is about a boy, Taketo Akutagawa, who att...   \n",
       "3  Just the words \"I love you,\" and everything ch...   \n",
       "4  After a stern yet compelling speech by Otto, S...   \n",
       "\n",
       "                                            main_pic type  source_type  \\\n",
       "0  https://cdn.myanimelist.net/images/anime/1494/...   TV        Novel   \n",
       "1  https://cdn.myanimelist.net/images/anime/9/760...   TV     Original   \n",
       "2  https://cdn.myanimelist.net/images/anime/9/330...   TV  Light novel   \n",
       "3  https://cdn.myanimelist.net/images/anime/4/754...   TV        Manga   \n",
       "4  https://cdn.myanimelist.net/images/anime/1724/...   TV  Light novel   \n",
       "\n",
       "   num_episodes           status           start_date  ... score_08_count  \\\n",
       "0          12.0  Finished Airing  2021-01-04 00:00:00  ...           4838   \n",
       "1          13.0  Finished Airing  2015-10-02 00:00:00  ...           1831   \n",
       "2          12.0  Finished Airing  2011-07-10 00:00:00  ...           5500   \n",
       "3          26.0  Finished Airing  2004-10-05 00:00:00  ...          40848   \n",
       "4          12.0  Finished Airing  2021-01-06 00:00:00  ...         100500   \n",
       "\n",
       "  score_07_count score_06_count score_05_count  score_04_count  \\\n",
       "0           9071           7527           4185            1989   \n",
       "1           3193           2780           1701            1007   \n",
       "2           9656           8182           5013            2576   \n",
       "3          29928          12268           5919            2114   \n",
       "4          43713          14458           5598            2777   \n",
       "\n",
       "   score_03_count  score_02_count  score_01_count  \\\n",
       "0             864             354             256   \n",
       "1             478             384             256   \n",
       "2            1253             789             512   \n",
       "3             841             504             512   \n",
       "4            1239             669            1280   \n",
       "\n",
       "                                               clubs  \\\n",
       "0      ['76804', '27057', '31353', '80141', '81186']   \n",
       "1  ['14045', '6498', '78493', '39441', '65409', '...   \n",
       "2  ['63421', '44237', '59057', '7538', '40745', '...   \n",
       "3  ['20081', '32683', '19736', '67029', '36987', ...   \n",
       "4  ['76804', '80863', '79626', '80141', '79209', ...   \n",
       "\n",
       "                                                pics  \n",
       "0  https://cdn.myanimelist.net/images/anime/1655/...  \n",
       "1  https://cdn.myanimelist.net/images/anime/2/732...  \n",
       "2  https://cdn.myanimelist.net/images/anime/10/29...  \n",
       "3  https://cdn.myanimelist.net/images/anime/9/204...  \n",
       "4  https://cdn.myanimelist.net/images/anime/1348/...  \n",
       "\n",
       "[5 rows x 38 columns]"
      ]
     },
     "execution_count": 3,
     "metadata": {},
     "output_type": "execute_result"
    }
   ],
   "source": [
    "df.head()"
   ]
  },
  {
   "cell_type": "code",
   "execution_count": 5,
   "id": "b0ff54e0-1fb0-4e3d-9644-d171d8c4f67d",
   "metadata": {},
   "outputs": [
    {
     "data": {
      "text/plain": [
       "Index(['anime_id', 'anime_url', 'title', 'synopsis', 'main_pic', 'type',\n",
       "       'source_type', 'num_episodes', 'status', 'start_date', 'end_date',\n",
       "       'season', 'studios', 'genres', 'score', 'score_count', 'score_rank',\n",
       "       'popularity_rank', 'members_count', 'favorites_count', 'watching_count',\n",
       "       'completed_count', 'on_hold_count', 'dropped_count',\n",
       "       'plan_to_watch_count', 'total_count', 'score_10_count',\n",
       "       'score_09_count', 'score_08_count', 'score_07_count', 'score_06_count',\n",
       "       'score_05_count', 'score_04_count', 'score_03_count', 'score_02_count',\n",
       "       'score_01_count', 'clubs', 'pics'],\n",
       "      dtype='object')"
      ]
     },
     "execution_count": 5,
     "metadata": {},
     "output_type": "execute_result"
    }
   ],
   "source": [
    "df.columns"
   ]
  },
  {
   "cell_type": "code",
   "execution_count": 6,
   "id": "142b874e-7148-4d5e-8876-6c3f1b87a1e2",
   "metadata": {},
   "outputs": [
    {
     "name": "stdout",
     "output_type": "stream",
     "text": [
      "<class 'pandas.core.frame.DataFrame'>\n",
      "RangeIndex: 10714 entries, 0 to 10713\n",
      "Data columns (total 38 columns):\n",
      " #   Column               Non-Null Count  Dtype  \n",
      "---  ------               --------------  -----  \n",
      " 0   anime_id             10714 non-null  int64  \n",
      " 1   anime_url            10714 non-null  object \n",
      " 2   title                10714 non-null  object \n",
      " 3   synopsis             10712 non-null  object \n",
      " 4   main_pic             10714 non-null  object \n",
      " 5   type                 10714 non-null  object \n",
      " 6   source_type          10714 non-null  object \n",
      " 7   num_episodes         10649 non-null  float64\n",
      " 8   status               10714 non-null  object \n",
      " 9   start_date           10714 non-null  object \n",
      " 10  end_date             10621 non-null  object \n",
      " 11  season               3706 non-null   object \n",
      " 12  studios              9208 non-null   object \n",
      " 13  genres               10714 non-null  object \n",
      " 14  score                10714 non-null  float64\n",
      " 15  score_count          10714 non-null  float64\n",
      " 16  score_rank           9465 non-null   float64\n",
      " 17  popularity_rank      10714 non-null  int64  \n",
      " 18  members_count        10714 non-null  int64  \n",
      " 19  favorites_count      10714 non-null  int64  \n",
      " 20  watching_count       10714 non-null  int64  \n",
      " 21  completed_count      10714 non-null  int64  \n",
      " 22  on_hold_count        10714 non-null  int64  \n",
      " 23  dropped_count        10714 non-null  int64  \n",
      " 24  plan_to_watch_count  10714 non-null  int64  \n",
      " 25  total_count          10714 non-null  int64  \n",
      " 26  score_10_count       10714 non-null  int64  \n",
      " 27  score_09_count       10714 non-null  int64  \n",
      " 28  score_08_count       10714 non-null  int64  \n",
      " 29  score_07_count       10714 non-null  int64  \n",
      " 30  score_06_count       10714 non-null  int64  \n",
      " 31  score_05_count       10714 non-null  int64  \n",
      " 32  score_04_count       10714 non-null  int64  \n",
      " 33  score_03_count       10714 non-null  int64  \n",
      " 34  score_02_count       10714 non-null  int64  \n",
      " 35  score_01_count       10714 non-null  int64  \n",
      " 36  clubs                9871 non-null   object \n",
      " 37  pics                 10714 non-null  object \n",
      "dtypes: float64(4), int64(20), object(14)\n",
      "memory usage: 3.1+ MB\n"
     ]
    }
   ],
   "source": [
    "df.info()"
   ]
  },
  {
   "cell_type": "markdown",
   "id": "9ba263cc-9393-4966-ae27-b96eedad4ee4",
   "metadata": {},
   "source": [
    "The following columns appear to have missing values because their non-null count < no. of rows:\n",
    "1. synopsis\n",
    "2. num_episodes\n",
    "3. end_date\n",
    "4. seasons\n",
    "5. studios\n",
    "6. score_rank\n",
    "7. clubs"
   ]
  },
  {
   "cell_type": "code",
   "execution_count": 8,
   "id": "f7d9a064-14a8-4fe4-b55a-1ecabed74efc",
   "metadata": {},
   "outputs": [],
   "source": [
    "df = df.dropna(subset=[\"num_episodes\"])"
   ]
  },
  {
   "cell_type": "code",
   "execution_count": 9,
   "id": "4b8da4f5-37f0-4668-b4b6-1a555a7c2da3",
   "metadata": {},
   "outputs": [
    {
     "data": {
      "text/plain": [
       "anime_id               10649\n",
       "anime_url              10649\n",
       "title                  10649\n",
       "synopsis               10647\n",
       "main_pic               10649\n",
       "type                   10649\n",
       "source_type            10649\n",
       "num_episodes           10649\n",
       "status                 10649\n",
       "start_date             10649\n",
       "end_date               10621\n",
       "season                  3685\n",
       "studios                 9156\n",
       "genres                 10649\n",
       "score                  10649\n",
       "score_count            10649\n",
       "score_rank              9422\n",
       "popularity_rank        10649\n",
       "members_count          10649\n",
       "favorites_count        10649\n",
       "watching_count         10649\n",
       "completed_count        10649\n",
       "on_hold_count          10649\n",
       "dropped_count          10649\n",
       "plan_to_watch_count    10649\n",
       "total_count            10649\n",
       "score_10_count         10649\n",
       "score_09_count         10649\n",
       "score_08_count         10649\n",
       "score_07_count         10649\n",
       "score_06_count         10649\n",
       "score_05_count         10649\n",
       "score_04_count         10649\n",
       "score_03_count         10649\n",
       "score_02_count         10649\n",
       "score_01_count         10649\n",
       "clubs                   9831\n",
       "pics                   10649\n",
       "dtype: int64"
      ]
     },
     "execution_count": 9,
     "metadata": {},
     "output_type": "execute_result"
    }
   ],
   "source": [
    "df.count()"
   ]
  },
  {
   "cell_type": "code",
   "execution_count": 10,
   "id": "d84219ec-14ea-4e4e-98a3-2249477c13a3",
   "metadata": {},
   "outputs": [
    {
     "data": {
      "text/plain": [
       "dtype('float64')"
      ]
     },
     "execution_count": 10,
     "metadata": {},
     "output_type": "execute_result"
    }
   ],
   "source": [
    "df[\"num_episodes\"].dtype"
   ]
  },
  {
   "cell_type": "code",
   "execution_count": 11,
   "id": "5d11022d-6e19-4f98-81f6-055166951fa9",
   "metadata": {},
   "outputs": [
    {
     "name": "stderr",
     "output_type": "stream",
     "text": [
      "C:\\Users\\chand\\AppData\\Local\\Temp\\ipykernel_31920\\2427813097.py:1: SettingWithCopyWarning: \n",
      "A value is trying to be set on a copy of a slice from a DataFrame.\n",
      "Try using .loc[row_indexer,col_indexer] = value instead\n",
      "\n",
      "See the caveats in the documentation: https://pandas.pydata.org/pandas-docs/stable/user_guide/indexing.html#returning-a-view-versus-a-copy\n",
      "  df[\"num_episodes\"] = df[\"num_episodes\"].astype(int)\n"
     ]
    }
   ],
   "source": [
    "df[\"num_episodes\"] = df[\"num_episodes\"].astype(int)"
   ]
  },
  {
   "cell_type": "code",
   "execution_count": 12,
   "id": "79124bb0-d054-48aa-b5cc-b9459f0db798",
   "metadata": {},
   "outputs": [],
   "source": [
    "df.to_parquet(\"cleaned_anime_data.parquet\", index=False)"
   ]
  },
  {
   "cell_type": "code",
   "execution_count": 3,
   "id": "b6252d4c-79e4-402a-97aa-07fa73da71a1",
   "metadata": {},
   "outputs": [
    {
     "data": {
      "text/plain": [
       "dtype('int64')"
      ]
     },
     "execution_count": 3,
     "metadata": {},
     "output_type": "execute_result"
    }
   ],
   "source": [
    "df[\"num_episodes\"].dtype"
   ]
  },
  {
   "cell_type": "markdown",
   "id": "9a0f2635-ceb9-4d4e-94e9-956edb935493",
   "metadata": {},
   "source": [
    "converted number of episodes into integers cz it should not be float now with the NaN gone."
   ]
  },
  {
   "cell_type": "code",
   "execution_count": 14,
   "id": "c76407ac-a32d-4864-8f1f-6728c07a4fe8",
   "metadata": {},
   "outputs": [
    {
     "data": {
      "text/plain": [
       "dtype('O')"
      ]
     },
     "execution_count": 14,
     "metadata": {},
     "output_type": "execute_result"
    }
   ],
   "source": [
    "df[\"start_date\"].dtype\n",
    "df[\"end_date\"].dtype"
   ]
  },
  {
   "cell_type": "code",
   "execution_count": 15,
   "id": "ab91ca6b-5cbd-4411-adfd-c28012a747c1",
   "metadata": {},
   "outputs": [
    {
     "name": "stderr",
     "output_type": "stream",
     "text": [
      "C:\\Users\\chand\\AppData\\Local\\Temp\\ipykernel_31920\\2748176897.py:1: SettingWithCopyWarning: \n",
      "A value is trying to be set on a copy of a slice from a DataFrame.\n",
      "Try using .loc[row_indexer,col_indexer] = value instead\n",
      "\n",
      "See the caveats in the documentation: https://pandas.pydata.org/pandas-docs/stable/user_guide/indexing.html#returning-a-view-versus-a-copy\n",
      "  df[\"start_date\"] = pd.to_datetime(df[\"start_date\"], errors='coerce')\n",
      "C:\\Users\\chand\\AppData\\Local\\Temp\\ipykernel_31920\\2748176897.py:2: SettingWithCopyWarning: \n",
      "A value is trying to be set on a copy of a slice from a DataFrame.\n",
      "Try using .loc[row_indexer,col_indexer] = value instead\n",
      "\n",
      "See the caveats in the documentation: https://pandas.pydata.org/pandas-docs/stable/user_guide/indexing.html#returning-a-view-versus-a-copy\n",
      "  df[\"end_date\"] = pd.to_datetime(df[\"end_date\"], errors='coerce')\n"
     ]
    }
   ],
   "source": [
    "df[\"start_date\"] = pd.to_datetime(df[\"start_date\"], errors='coerce')\n",
    "df[\"end_date\"] = pd.to_datetime(df[\"end_date\"], errors='coerce')\n"
   ]
  },
  {
   "cell_type": "code",
   "execution_count": 4,
   "id": "62a858b7-179a-4621-8cd1-03ca81314cd5",
   "metadata": {},
   "outputs": [
    {
     "data": {
      "text/plain": [
       "dtype('<M8[ns]')"
      ]
     },
     "execution_count": 4,
     "metadata": {},
     "output_type": "execute_result"
    }
   ],
   "source": [
    "df[\"start_date\"].dtype\n",
    "df[\"end_date\"].dtype"
   ]
  },
  {
   "cell_type": "code",
   "execution_count": 17,
   "id": "320bb551-95a2-4c15-b8df-5e02b9ce6dc7",
   "metadata": {},
   "outputs": [],
   "source": [
    "df.to_parquet(\"cleaned_anime_data.parquet\", index=False)"
   ]
  },
  {
   "cell_type": "markdown",
   "id": "ec7995e4-f29c-44c6-a0bb-4e47f8b3c69c",
   "metadata": {},
   "source": [
    "now, dates are converted to the right format.\n",
    "Check for duplicates"
   ]
  },
  {
   "cell_type": "code",
   "execution_count": 20,
   "id": "b2f6c7e8-c626-4b1a-8e1a-227d2df38cbe",
   "metadata": {},
   "outputs": [
    {
     "name": "stdout",
     "output_type": "stream",
     "text": [
      "Column 'genres' has non-hashable values like list or ndarray: [<class 'numpy.ndarray'>]\n"
     ]
    }
   ],
   "source": [
    "import numpy as np\n",
    "for col in df.columns:\n",
    "    types = df[col].apply(type).unique()\n",
    "    if any(t in [list, np.ndarray] for t in types):\n",
    "        print(f\"Column '{col}' has non-hashable values like list or ndarray: {types}\")\n"
   ]
  },
  {
   "cell_type": "code",
   "execution_count": 5,
   "id": "ba26bdbf-4cef-4ef3-84de-b5abcb071479",
   "metadata": {},
   "outputs": [],
   "source": [
    "df_no_unhashables = df.drop(columns=[\"genres\"])"
   ]
  },
  {
   "cell_type": "code",
   "execution_count": 6,
   "id": "ff074039-34b7-4ac8-b8ec-d85c58e8540f",
   "metadata": {},
   "outputs": [
    {
     "name": "stdout",
     "output_type": "stream",
     "text": [
      "Duplicate rows: 0\n"
     ]
    }
   ],
   "source": [
    "print(\"Duplicate rows:\", df_no_unhashables.duplicated().sum())"
   ]
  },
  {
   "cell_type": "code",
   "execution_count": 7,
   "id": "b96cfc08-146a-4749-91ab-32adf2b92b47",
   "metadata": {},
   "outputs": [
    {
     "name": "stdout",
     "output_type": "stream",
     "text": [
      "           anime_id  num_episodes                     start_date  \\\n",
      "count  10649.000000  10649.000000                          10649   \n",
      "mean   19246.055404     11.838201  2007-11-27 11:12:28.126584832   \n",
      "min        1.000000      1.000000            1917-02-20 00:00:00   \n",
      "25%     3653.000000      1.000000            2003-05-22 00:00:00   \n",
      "50%    15417.000000      3.000000            2011-10-07 00:00:00   \n",
      "75%    34639.000000     12.000000            2016-12-23 00:00:00   \n",
      "max    51296.000000   1818.000000            2022-03-17 00:00:00   \n",
      "std    15658.900505     36.511819                            NaN   \n",
      "\n",
      "                            end_date         score   score_count  \\\n",
      "count                          10621  10649.000000  1.064900e+04   \n",
      "mean   2008-03-20 00:59:39.323980800      6.560110  3.734583e+04   \n",
      "min              1917-02-20 00:00:00      1.850000  1.010000e+02   \n",
      "25%              2003-10-01 00:00:00      6.020000  8.410000e+02   \n",
      "50%              2012-02-11 00:00:00      6.650000  3.520000e+03   \n",
      "75%              2017-03-16 00:00:00      7.250000  2.014600e+04   \n",
      "max              2022-09-10 00:00:00      9.050000  2.380891e+06   \n",
      "std                              NaN      0.985731  1.228917e+05   \n",
      "\n",
      "         score_rank  popularity_rank  members_count  favorites_count  ...  \\\n",
      "count   9422.000000     10649.000000   1.064900e+04     10649.000000  ...   \n",
      "mean    5545.154956      6043.565687   7.160609e+04       836.382571  ...   \n",
      "min        1.000000         1.000000   2.060000e+02         0.000000  ...   \n",
      "25%     2479.500000      2734.000000   2.583000e+03         3.000000  ...   \n",
      "50%     5207.500000      5669.000000   9.148000e+03        16.000000  ...   \n",
      "75%     8395.500000      9026.000000   4.506200e+04       113.000000  ...   \n",
      "max    12406.000000     16422.000000   3.329298e+06    197551.000000  ...   \n",
      "std     3528.625068      3873.904926   2.019531e+05      5643.336692  ...   \n",
      "\n",
      "       score_10_count  score_09_count  score_08_count  score_07_count  \\\n",
      "count    10649.000000    10649.000000    10649.000000    10649.000000   \n",
      "mean      5253.313926     6738.069302     9454.778665     8166.369518   \n",
      "min          1.000000        0.000000        0.000000        1.000000   \n",
      "25%         47.000000       36.000000       81.000000      162.000000   \n",
      "50%        244.000000      238.000000      518.000000      866.000000   \n",
      "75%       1564.000000     1939.000000     4047.000000     5296.000000   \n",
      "max     875328.000000   699881.000000   613059.000000   387608.000000   \n",
      "std      27789.822323    30191.217397    33024.396318    23042.279702   \n",
      "\n",
      "       score_06_count  score_05_count  score_04_count  score_03_count  \\\n",
      "count    10649.000000    10649.000000    10649.000000    10649.000000   \n",
      "mean      3981.281717     1970.214011      884.137853      406.671143   \n",
      "min          5.000000        3.000000        1.000000        0.000000   \n",
      "25%        165.000000      128.000000       54.000000       27.000000   \n",
      "50%        647.000000      381.000000      152.000000       75.000000   \n",
      "75%       2968.000000     1534.000000      599.000000      266.000000   \n",
      "max     238248.000000   155460.000000   100101.000000    53437.000000   \n",
      "std      10347.865983     5164.124975     2790.270895     1396.987355   \n",
      "\n",
      "       score_02_count  score_01_count  \n",
      "count    10649.000000    10649.000000  \n",
      "mean       239.582026      251.416377  \n",
      "min          0.000000        0.000000  \n",
      "25%         16.000000       18.000000  \n",
      "50%         45.000000       46.000000  \n",
      "75%        149.000000      147.000000  \n",
      "max      30218.000000    43363.000000  \n",
      "std        904.960769     1129.967281  \n",
      "\n",
      "[8 rows x 26 columns]\n"
     ]
    }
   ],
   "source": [
    "# Summary of numerical columns\n",
    "print(df.describe())\n",
    "\n"
   ]
  },
  {
   "cell_type": "code",
   "execution_count": 8,
   "id": "5e03b700-ec89-47dc-8df7-36677f6b4714",
   "metadata": {},
   "outputs": [
    {
     "name": "stdout",
     "output_type": "stream",
     "text": [
      "                                                  title     type     season  \\\n",
      "72                                       Toushi Gordian       TV  Fall 1979   \n",
      "6543                                Sentakuya Shin-chan      OVA       None   \n",
      "6793  Inyouchuu Shoku: Ryoushokutou Taimaroku - Kanz...      OVA       None   \n",
      "4203                                    Planet:Valkyrie      ONA       None   \n",
      "9411       Happy☆Lesson: Hoka Hoka★Kanna to Futari Kiri  Special       None   \n",
      "\n",
      "                   studios  \n",
      "72    Tatsunoko Production  \n",
      "6543                 T-Rex  \n",
      "6793                  None  \n",
      "4203            P.A. Works  \n",
      "9411                  None  \n"
     ]
    }
   ],
   "source": [
    "# Look at a few object columns\n",
    "print(df[['title', 'type', 'season', 'studios']].sample(5))\n",
    "\n"
   ]
  },
  {
   "cell_type": "code",
   "execution_count": 9,
   "id": "a407a928-1157-4a00-97e6-c363b0d62d5b",
   "metadata": {},
   "outputs": [
    {
     "name": "stdout",
     "output_type": "stream",
     "text": [
      "season        6964\n",
      "studios       1493\n",
      "score_rank    1227\n",
      "clubs          818\n",
      "end_date        28\n",
      "synopsis         2\n",
      "type             0\n",
      "main_pic         0\n",
      "title            0\n",
      "anime_url        0\n",
      "dtype: int64\n"
     ]
    }
   ],
   "source": [
    "# Check for nulls in all columns\n",
    "print(df.isnull().sum().sort_values(ascending=False).head(10))"
   ]
  },
  {
   "cell_type": "code",
   "execution_count": 10,
   "id": "bb1b7c1b-feea-4d75-8504-b3108ad7fb81",
   "metadata": {},
   "outputs": [],
   "source": [
    "df['studios'] = df['studios'].fillna('Unknown')"
   ]
  },
  {
   "cell_type": "code",
   "execution_count": 11,
   "id": "1115356f-cbe6-4992-96c0-e16bc5d40d7d",
   "metadata": {},
   "outputs": [],
   "source": [
    "df.to_parquet(\"cleaned_anime_data.parquet\", index=False)"
   ]
  },
  {
   "cell_type": "code",
   "execution_count": 24,
   "id": "9147beea-a579-43a3-b90c-bbc212af322a",
   "metadata": {},
   "outputs": [
    {
     "name": "stdout",
     "output_type": "stream",
     "text": [
      "season                 6964\n",
      "score_rank             1227\n",
      "clubs                   818\n",
      "end_date                 28\n",
      "synopsis                  2\n",
      "anime_id                  0\n",
      "type                      0\n",
      "main_pic                  0\n",
      "title                     0\n",
      "anime_url                 0\n",
      "start_date                0\n",
      "status                    0\n",
      "studios                   0\n",
      "source_type               0\n",
      "genres                    0\n",
      "score                     0\n",
      "score_count               0\n",
      "popularity_rank           0\n",
      "members_count             0\n",
      "favorites_count           0\n",
      "watching_count            0\n",
      "num_episodes              0\n",
      "completed_count           0\n",
      "on_hold_count             0\n",
      "plan_to_watch_count       0\n",
      "dropped_count             0\n",
      "score_10_count            0\n",
      "score_09_count            0\n",
      "score_08_count            0\n",
      "total_count               0\n",
      "score_07_count            0\n",
      "score_06_count            0\n",
      "score_04_count            0\n",
      "score_05_count            0\n",
      "score_03_count            0\n",
      "score_02_count            0\n",
      "score_01_count            0\n",
      "pics                      0\n",
      "dtype: int64\n"
     ]
    }
   ],
   "source": [
    "print(df.isnull().sum().sort_values(ascending=False).head(50))"
   ]
  },
  {
   "cell_type": "code",
   "execution_count": 25,
   "id": "0cefbaf7-8372-4cf1-8977-736e82916d91",
   "metadata": {},
   "outputs": [],
   "source": [
    "df['start_date'] = pd.to_datetime(df['start_date'])\n",
    "df['end_date'] = pd.to_datetime(df['end_date'])\n",
    "\n",
    "df['duration'] = (df['end_date'] - df['start_date']).dt.days\n"
   ]
  },
  {
   "cell_type": "code",
   "execution_count": 26,
   "id": "de994be1-dc69-4c44-b059-8e2684be490e",
   "metadata": {},
   "outputs": [],
   "source": [
    "df['release_year'] = df['start_date'].dt.year"
   ]
  },
  {
   "cell_type": "code",
   "execution_count": 27,
   "id": "d99a1636-46ac-4caa-99b2-833501f750e7",
   "metadata": {},
   "outputs": [
    {
     "name": "stdout",
     "output_type": "stream",
     "text": [
      "   release_year  duration\n",
      "0          2021      77.0\n",
      "1          2015      84.0\n",
      "2          2011      77.0\n",
      "3          2004     175.0\n",
      "4          2021      77.0\n",
      "5          2014     161.0\n",
      "6          2013     127.0\n",
      "7          1998     175.0\n",
      "8          2011      63.0\n",
      "9          1988     189.0\n"
     ]
    }
   ],
   "source": [
    "print(df[['release_year', 'duration']].head(10))  # shows first 10 rows\n"
   ]
  },
  {
   "cell_type": "code",
   "execution_count": 30,
   "id": "f4891e03-105e-48d5-b996-b6b4cbf2e7f6",
   "metadata": {},
   "outputs": [],
   "source": [
    "df.to_parquet(\"cleaned_anime_data.parquet\", index=False)"
   ]
  },
  {
   "cell_type": "code",
   "execution_count": 31,
   "id": "cb490d8a-589a-4153-a1ad-af1ff2ad35d3",
   "metadata": {},
   "outputs": [],
   "source": [
    "df.to_csv(\"anime_data_feature_engineered.csv\", index=False)"
   ]
  },
  {
   "cell_type": "code",
   "execution_count": 32,
   "id": "c17bda0f-3116-4d0f-9200-739335b7ead6",
   "metadata": {},
   "outputs": [],
   "source": [
    "df.to_parquet(\"anime_data_feature_engineered.parquet\", index=False)"
   ]
  }
 ],
 "metadata": {
  "kernelspec": {
   "display_name": "Python 3 (ipykernel)",
   "language": "python",
   "name": "python3"
  },
  "language_info": {
   "codemirror_mode": {
    "name": "ipython",
    "version": 3
   },
   "file_extension": ".py",
   "mimetype": "text/x-python",
   "name": "python",
   "nbconvert_exporter": "python",
   "pygments_lexer": "ipython3",
   "version": "3.9.21"
  }
 },
 "nbformat": 4,
 "nbformat_minor": 5
}
