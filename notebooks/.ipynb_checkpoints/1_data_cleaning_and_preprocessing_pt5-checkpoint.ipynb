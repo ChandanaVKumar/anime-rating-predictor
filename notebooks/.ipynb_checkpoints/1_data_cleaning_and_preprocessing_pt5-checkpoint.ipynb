{
 "cells": [
  {
   "cell_type": "code",
   "execution_count": 1,
   "id": "01996da1-6f4c-4dff-9d3b-0196f8d701f2",
   "metadata": {},
   "outputs": [],
   "source": [
    "import pandas as pd\n",
    "import numpy as np"
   ]
  },
  {
   "cell_type": "code",
   "execution_count": 3,
   "id": "70a5c6d4-6af0-42ac-8b1c-af022ceed3c4",
   "metadata": {},
   "outputs": [],
   "source": [
    "df = pd.read_parquet(\"anime_data_selected_featuresv2.parquet\")"
   ]
  },
  {
   "cell_type": "code",
   "execution_count": 3,
   "id": "a5930163-7a06-4c92-b498-ef3ffef23957",
   "metadata": {},
   "outputs": [
    {
     "data": {
      "text/html": [
       "<div>\n",
       "<style scoped>\n",
       "    .dataframe tbody tr th:only-of-type {\n",
       "        vertical-align: middle;\n",
       "    }\n",
       "\n",
       "    .dataframe tbody tr th {\n",
       "        vertical-align: top;\n",
       "    }\n",
       "\n",
       "    .dataframe thead th {\n",
       "        text-align: right;\n",
       "    }\n",
       "</style>\n",
       "<table border=\"1\" class=\"dataframe\">\n",
       "  <thead>\n",
       "    <tr style=\"text-align: right;\">\n",
       "      <th></th>\n",
       "      <th>type</th>\n",
       "      <th>num_episodes</th>\n",
       "      <th>status</th>\n",
       "      <th>start_date</th>\n",
       "      <th>end_date</th>\n",
       "      <th>season</th>\n",
       "      <th>studios</th>\n",
       "      <th>genres</th>\n",
       "      <th>score</th>\n",
       "      <th>release_year</th>\n",
       "      <th>studio_rank_score</th>\n",
       "      <th>duration</th>\n",
       "    </tr>\n",
       "  </thead>\n",
       "  <tbody>\n",
       "    <tr>\n",
       "      <th>0</th>\n",
       "      <td>TV</td>\n",
       "      <td>12</td>\n",
       "      <td>Finished Airing</td>\n",
       "      <td>2021-01-04</td>\n",
       "      <td>2021-03-22</td>\n",
       "      <td>Winter 2021</td>\n",
       "      <td>[LIDENFILMS, Felix Film]</td>\n",
       "      <td>[Adventure, Fantasy, Girls Love, Mystery, Sci-Fi]</td>\n",
       "      <td>6.50</td>\n",
       "      <td>2021</td>\n",
       "      <td>72</td>\n",
       "      <td>77.0</td>\n",
       "    </tr>\n",
       "    <tr>\n",
       "      <th>1</th>\n",
       "      <td>TV</td>\n",
       "      <td>13</td>\n",
       "      <td>Finished Airing</td>\n",
       "      <td>2015-10-02</td>\n",
       "      <td>2015-12-25</td>\n",
       "      <td>Fall 2015</td>\n",
       "      <td>[Tomovies]</td>\n",
       "      <td>[Horror, Mystery, Supernatural, Suspense]</td>\n",
       "      <td>6.20</td>\n",
       "      <td>2015</td>\n",
       "      <td>4</td>\n",
       "      <td>84.0</td>\n",
       "    </tr>\n",
       "    <tr>\n",
       "      <th>2</th>\n",
       "      <td>TV</td>\n",
       "      <td>12</td>\n",
       "      <td>Finished Airing</td>\n",
       "      <td>2011-07-10</td>\n",
       "      <td>2011-09-25</td>\n",
       "      <td>Summer 2011</td>\n",
       "      <td>[AIC]</td>\n",
       "      <td>[Comedy, Romance, Ecchi, Harem, School]</td>\n",
       "      <td>6.39</td>\n",
       "      <td>2011</td>\n",
       "      <td>144</td>\n",
       "      <td>77.0</td>\n",
       "    </tr>\n",
       "    <tr>\n",
       "      <th>3</th>\n",
       "      <td>TV</td>\n",
       "      <td>26</td>\n",
       "      <td>Finished Airing</td>\n",
       "      <td>2004-10-05</td>\n",
       "      <td>2005-03-29</td>\n",
       "      <td>Fall 2004</td>\n",
       "      <td>[Studio Comet]</td>\n",
       "      <td>[Comedy, Romance, School, Shounen]</td>\n",
       "      <td>7.82</td>\n",
       "      <td>2004</td>\n",
       "      <td>35</td>\n",
       "      <td>175.0</td>\n",
       "    </tr>\n",
       "    <tr>\n",
       "      <th>4</th>\n",
       "      <td>TV</td>\n",
       "      <td>12</td>\n",
       "      <td>Finished Airing</td>\n",
       "      <td>2021-01-06</td>\n",
       "      <td>2021-03-24</td>\n",
       "      <td>Winter 2021</td>\n",
       "      <td>[White Fox]</td>\n",
       "      <td>[Drama, Fantasy, Suspense, Psychological]</td>\n",
       "      <td>8.46</td>\n",
       "      <td>2021</td>\n",
       "      <td>43</td>\n",
       "      <td>77.0</td>\n",
       "    </tr>\n",
       "  </tbody>\n",
       "</table>\n",
       "</div>"
      ],
      "text/plain": [
       "  type  num_episodes           status start_date   end_date       season  \\\n",
       "0   TV            12  Finished Airing 2021-01-04 2021-03-22  Winter 2021   \n",
       "1   TV            13  Finished Airing 2015-10-02 2015-12-25    Fall 2015   \n",
       "2   TV            12  Finished Airing 2011-07-10 2011-09-25  Summer 2011   \n",
       "3   TV            26  Finished Airing 2004-10-05 2005-03-29    Fall 2004   \n",
       "4   TV            12  Finished Airing 2021-01-06 2021-03-24  Winter 2021   \n",
       "\n",
       "                    studios  \\\n",
       "0  [LIDENFILMS, Felix Film]   \n",
       "1                [Tomovies]   \n",
       "2                     [AIC]   \n",
       "3            [Studio Comet]   \n",
       "4               [White Fox]   \n",
       "\n",
       "                                              genres  score  release_year  \\\n",
       "0  [Adventure, Fantasy, Girls Love, Mystery, Sci-Fi]   6.50          2021   \n",
       "1          [Horror, Mystery, Supernatural, Suspense]   6.20          2015   \n",
       "2            [Comedy, Romance, Ecchi, Harem, School]   6.39          2011   \n",
       "3                 [Comedy, Romance, School, Shounen]   7.82          2004   \n",
       "4          [Drama, Fantasy, Suspense, Psychological]   8.46          2021   \n",
       "\n",
       "   studio_rank_score  duration  \n",
       "0                 72      77.0  \n",
       "1                  4      84.0  \n",
       "2                144      77.0  \n",
       "3                 35     175.0  \n",
       "4                 43      77.0  "
      ]
     },
     "execution_count": 3,
     "metadata": {},
     "output_type": "execute_result"
    }
   ],
   "source": [
    "df.head()"
   ]
  },
  {
   "cell_type": "code",
   "execution_count": null,
   "id": "26cc6f7e-eef4-4afe-aaae-6460dbd35d69",
   "metadata": {},
   "outputs": [],
   "source": [
    "df['genres'].unique() #cannot do this cz each row has more than one genre and that list might be considered as one unique thing."
   ]
  },
  {
   "cell_type": "code",
   "execution_count": 5,
   "id": "9d0ff377-d926-46d6-a86d-320980cb87fa",
   "metadata": {},
   "outputs": [
    {
     "name": "stdout",
     "output_type": "stream",
     "text": [
      "['Action', 'Adventure', 'Avant Garde', 'Award Winning', 'Boys Love', 'Cars', 'Comedy', 'Demons', 'Drama', 'Ecchi', 'Erotica', 'Fantasy', 'Game', 'Girls Love', 'Gourmet', 'Harem', 'Hentai', 'Historical', 'Horror', 'Josei', 'Kids', 'Martial Arts', 'Mecha', 'Military', 'Music', 'Mystery', 'Parody', 'Police', 'Psychological', 'Romance', 'Samurai', 'School', 'Sci-Fi', 'Seinen', 'Shoujo', 'Shounen', 'Slice of Life', 'Space', 'Sports', 'Super Power', 'Supernatural', 'Suspense', 'Vampire', 'Work Life']\n",
      "\n",
      "Total unique genres: 44\n"
     ]
    }
   ],
   "source": [
    "# Step 1: Make a copy so you don't mess with your original df\n",
    "df_genres = df.copy()\n",
    "\n",
    "# Step 2: Explode the genres\n",
    "df_genres = df_genres.explode('genres')\n",
    "\n",
    "# Step 3: Remove any leading/trailing whitespace just in case\n",
    "df_genres['genres'] = df_genres['genres'].str.strip()\n",
    "\n",
    "# Step 4: Get all unique genres\n",
    "unique_genres = df_genres['genres'].unique()\n",
    "\n",
    "# Step 5: View the genres\n",
    "print(sorted(unique_genres))\n",
    "print(f\"\\nTotal unique genres: {len(unique_genres)}\")\n"
   ]
  },
  {
   "cell_type": "markdown",
   "id": "1c54c64e-8997-438a-9a22-45b11a867971",
   "metadata": {},
   "source": [
    "**one-hot encode categorical values in 'type'**"
   ]
  },
  {
   "cell_type": "code",
   "execution_count": 4,
   "id": "2e8bb444-018a-40eb-98e1-99088f16ec91",
   "metadata": {},
   "outputs": [],
   "source": [
    "# One-hot encode the 'type' column\n",
    "type_encoded = pd.get_dummies(df['type'], prefix='type')\n",
    "\n",
    "# Concatenate the new one-hot columns with original DataFrame\n",
    "df = pd.concat([df, type_encoded], axis=1)"
   ]
  },
  {
   "cell_type": "markdown",
   "id": "f696330e-e617-44af-a141-4836cbd3df90",
   "metadata": {},
   "source": [
    "**one-hot encode categorical values in 'status'**"
   ]
  },
  {
   "cell_type": "code",
   "execution_count": 5,
   "id": "010f6729-b314-495f-b0fa-430aabae7abf",
   "metadata": {},
   "outputs": [],
   "source": [
    "# One-hot encode the 'status' column\n",
    "status_encoded = pd.get_dummies(df['status'], prefix='status')\n",
    "\n",
    "# Concatenate the new one-hot columns with original DataFrame\n",
    "df = pd.concat([df, status_encoded], axis=1)\n"
   ]
  },
  {
   "cell_type": "markdown",
   "id": "54ec1284-8aca-49bb-8eb2-3a769bea6b86",
   "metadata": {},
   "source": [
    "**one-hot encode categorical values in season after stripping the year because its redundant and present already in release_year**"
   ]
  },
  {
   "cell_type": "code",
   "execution_count": 6,
   "id": "0cf08e88-076d-450d-90ec-b9a2a0a6ee34",
   "metadata": {},
   "outputs": [],
   "source": [
    "# Strip the year from season and keep only the season name\n",
    "df['season_clean'] = df['season'].str.split().str[0]"
   ]
  },
  {
   "cell_type": "code",
   "execution_count": 7,
   "id": "434c075e-c7a1-4e57-82fc-12df23480a8c",
   "metadata": {},
   "outputs": [],
   "source": [
    "# One-hot encode the cleaned season\n",
    "season_encoded = pd.get_dummies(df['season_clean'], prefix='season')\n"
   ]
  },
  {
   "cell_type": "code",
   "execution_count": 8,
   "id": "a41c3f91-0d8e-412e-8a74-d22759028e79",
   "metadata": {},
   "outputs": [],
   "source": [
    "# Add the one-hot encoded season columns to the main DataFrame\n",
    "df = pd.concat([df, season_encoded], axis=1)\n"
   ]
  },
  {
   "cell_type": "markdown",
   "id": "351b5022-0f27-47cf-9572-5c47274db8d8",
   "metadata": {},
   "source": [
    "**'studios':**\n",
    "✅ What we already have (studio_rank_score)\n",
    "- It's numeric and ready to use.\n",
    "- It represents the popularity or commonness of the studio(s) involved in each anime.\n",
    "- If an anime has multiple studios, their frequencies are summed, so higher scores mean studios that appear more often across all animes.\n",
    "- This is a kind of frequency-based encoding (like count encoding).\n",
    "So in this sense, yes, you’ve already encoded studios in a meaningful way.\n",
    "But this does not show the presence of a particular studio. But the number of unique studios are way too large. So encoding that will mean that we have hundreds of additional columns.\n",
    "So skip that for now."
   ]
  },
  {
   "cell_type": "markdown",
   "id": "a52223ba-b669-4cd3-98ac-2fa88a48dedd",
   "metadata": {},
   "source": [
    "**multi-encode 'genres'**"
   ]
  },
  {
   "cell_type": "code",
   "execution_count": 9,
   "id": "ab1e5076-a68a-4a1d-bd0e-a1ce19eb684a",
   "metadata": {},
   "outputs": [],
   "source": [
    "from sklearn.preprocessing import MultiLabelBinarizer\n",
    "\n",
    "# Initialize the binarizer\n",
    "mlb = MultiLabelBinarizer()\n",
    "\n",
    "# Apply it to the genres column\n",
    "genres_encoded = pd.DataFrame(mlb.fit_transform(df['genres']), \n",
    "                              columns=[f\"genre_{g}\" for g in mlb.classes_])\n",
    "\n",
    "# Concatenate with original DataFrame\n",
    "df = pd.concat([df, genres_encoded], axis=1)\n"
   ]
  },
  {
   "cell_type": "markdown",
   "id": "d10a9727-73fe-49b1-b11e-ceb3bad68c00",
   "metadata": {},
   "source": [
    "**create new dataset with encoded columns**"
   ]
  },
  {
   "cell_type": "code",
   "execution_count": 10,
   "id": "1067a596-9c42-4f26-a3e4-36c11edd6d0e",
   "metadata": {},
   "outputs": [],
   "source": [
    "# Save as Parquet\n",
    "df.to_parquet(\"anime_data_selected_features_encoded_v3.parquet\", index=False)\n",
    "\n",
    "# Save as CSV\n",
    "df.to_csv(\"anime_data_selected_features_encoded_v3.csv\", index=False)\n"
   ]
  },
  {
   "cell_type": "code",
   "execution_count": 11,
   "id": "94e10833-089d-414a-9df3-d56fb83e30ab",
   "metadata": {},
   "outputs": [],
   "source": [
    "df1 = pd.read_parquet(\"anime_data_selected_features_encoded_v3.parquet\")"
   ]
  },
  {
   "cell_type": "code",
   "execution_count": 14,
   "id": "78bcb42f-178d-449c-9060-6201ea7d2d9f",
   "metadata": {},
   "outputs": [
    {
     "data": {
      "text/plain": [
       "(10649, 70)"
      ]
     },
     "execution_count": 14,
     "metadata": {},
     "output_type": "execute_result"
    }
   ],
   "source": [
    "df1.shape"
   ]
  }
 ],
 "metadata": {
  "kernelspec": {
   "display_name": "Python 3 (ipykernel)",
   "language": "python",
   "name": "python3"
  },
  "language_info": {
   "codemirror_mode": {
    "name": "ipython",
    "version": 3
   },
   "file_extension": ".py",
   "mimetype": "text/x-python",
   "name": "python",
   "nbconvert_exporter": "python",
   "pygments_lexer": "ipython3",
   "version": "3.9.21"
  }
 },
 "nbformat": 4,
 "nbformat_minor": 5
}
