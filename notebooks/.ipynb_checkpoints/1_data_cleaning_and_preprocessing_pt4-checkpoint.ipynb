{
 "cells": [
  {
   "cell_type": "code",
   "execution_count": 1,
   "id": "803fdab0-8cce-4cdb-b4d6-5cabd5ee42ec",
   "metadata": {},
   "outputs": [],
   "source": [
    "import pandas as pd\n",
    "import numpy as np"
   ]
  },
  {
   "cell_type": "code",
   "execution_count": 2,
   "id": "5c5ed915-6ce4-4d34-9aec-ebdb6e45e5f8",
   "metadata": {},
   "outputs": [],
   "source": [
    "df = pd.read_parquet(\"anime_data_feature_engineered_v2.parquet\")"
   ]
  },
  {
   "cell_type": "code",
   "execution_count": 4,
   "id": "ff7d0666-0239-46ff-8672-051ec164a0d5",
   "metadata": {},
   "outputs": [
    {
     "name": "stdout",
     "output_type": "stream",
     "text": [
      "Index(['anime_id', 'anime_url', 'title', 'synopsis', 'main_pic', 'type',\n",
      "       'source_type', 'num_episodes', 'status', 'start_date', 'end_date',\n",
      "       'season', 'studios', 'genres', 'score', 'score_count', 'score_rank',\n",
      "       'popularity_rank', 'members_count', 'favorites_count', 'watching_count',\n",
      "       'completed_count', 'on_hold_count', 'dropped_count',\n",
      "       'plan_to_watch_count', 'total_count', 'score_10_count',\n",
      "       'score_09_count', 'score_08_count', 'score_07_count', 'score_06_count',\n",
      "       'score_05_count', 'score_04_count', 'score_03_count', 'score_02_count',\n",
      "       'score_01_count', 'clubs', 'pics', 'duration', 'release_year'],\n",
      "      dtype='object')\n"
     ]
    }
   ],
   "source": [
    "print(df.columns)"
   ]
  },
  {
   "cell_type": "code",
   "execution_count": 4,
   "id": "dc80f88f-6053-4437-91e6-502e037d8b75",
   "metadata": {},
   "outputs": [],
   "source": [
    "import seaborn as sns\n",
    "import matplotlib.pyplot as plt"
   ]
  },
  {
   "cell_type": "markdown",
   "id": "3630be1e-528e-4572-957a-dfcb6b2a2c0e",
   "metadata": {},
   "source": [
    "The thing is, most of the values of features are not numerical values. And those features need to be included because logically they play a huge part in predicting the rating an anime will recieve. Example, Genres and studios, title, etc. And some of these features have multiple values. Example, an anime will not just be one specific genre, it can be a combination of many. \n",
    "1. So we first have to convert the non-numerical data into numbers by one hot encoding them (converts them into 0s and 1s).\n",
    "2. then we also will have to separate the multivalued features into more features. If that particular value is present then 1 else 0. \n"
   ]
  },
  {
   "cell_type": "markdown",
   "id": "08931ac9-42f7-4a77-9413-7110f68fe1ec",
   "metadata": {},
   "source": [
    "### 🧠 Feature Selection – What to Keep & Why\n",
    "\n",
    "One of the key steps in building a predictive model is carefully selecting relevant features. Below is a rationale for each column:\n",
    "\n",
    "1. **anime_id** – Not required. This is just a unique identifier used for referencing, not a meaningful feature. ❌  \n",
    "2. **anime_url** – Also not useful for prediction. It’s metadata and holds no modeling value. ❌  \n",
    "3. **title** – Potentially valuable, as certain keywords might influence user interest. However, converting titles to numerical features requires NLP techniques. Needs further exploration.  \n",
    "4. **synopsis** – Highly relevant. Synopses play a significant role in user decisions, and with proper text vectorization, this can be a powerful feature. ✅  \n",
    "5. **main_pic** – While visuals matter to users, image-based modeling is outside the scope of this project for now. ❌  \n",
    "6. **type** – Very important. The format (TV, Movie, OVA, etc.) often affects user expectations and engagement. ✅  \n",
    "7. **source_type** – Likely not impactful for our prediction task. ❌  \n",
    "8. **num_episodes** – Clearly relevant. Longer or shorter series may have different levels of appeal. ✅  \n",
    "9. **status** – Can be useful. Whether the anime is ongoing, completed, or yet to air might affect viewership and ratings. Worth keeping. ✅  \n",
    "10. **start_date** – May provide insight into seasonal trends or temporal patterns in anime popularity. ✅  \n",
    "11. **end_date** – Same rationale as `start_date`; could help derive duration or detect seasonal effects. ✅  \n",
    "12. **season** – Initially dismissed due to missing values, but could be engineered using start/end dates. Might capture seasonal viewing trends. ✅  \n",
    "13. **studios** – Important. Studios have varying reputations and fan bases which can impact popularity and perception. ✅  \n",
    "14. **genres** – Highly important. User preferences often align strongly with genre. ✅  \n",
    "15. **score** – Our **target** variable. 🎯\n",
    "\n",
    "---\n",
    "\n",
    "### ✨ Engineered Features\n",
    "\n",
    "In addition to existing features, a few new ones can be derived:\n",
    "\n",
    "- **duration** – Number of days between start and end date; may correlate with format or production choices.  \n",
    "- **release_year** – Extracted from `start_date`, this can help analyze trends across different time periods.  \n"
   ]
  },
  {
   "cell_type": "markdown",
   "id": "049a3bbc-e012-4259-9bf2-79d04d054a68",
   "metadata": {},
   "source": [
    "### 🎯 Choosing the Right Target Variable\n",
    "\n",
    "We need to clearly define what exactly we want to predict. Here are the main options:\n",
    "\n",
    "---\n",
    "\n",
    "#### 🔹 **Option 1: `score`** – *The user rating (e.g., 8.79)*  \n",
    "**What it means**: The average rating given by MyAnimeList users.\n",
    "\n",
    "**✅ Pros:**\n",
    "- Sounds natural — “predict how good people think this anime is.”\n",
    "- Continuous value → great for regression models.\n",
    "\n",
    "**⚠️ Cons:**\n",
    "- Can be biased by niche anime with few votes.\n",
    "- May not reflect popularity or mass appeal (some anime are highly rated but barely watched).\n",
    "\n",
    "**🧠 Best for**: Predicting perceived *quality*.\n",
    "\n",
    "---\n",
    "\n",
    "#### 🔹 **Option 2: `popularity_rank` or `members_count`** – *The mass appeal*  \n",
    "**What it means**: How many users added it to their list (watched, plan to watch, etc.).\n",
    "\n",
    "**✅ Pros:**\n",
    "- Reflects how “mainstream” or widely known the anime is.\n",
    "- May correlate well with features like genre, studio, or release season.\n",
    "\n",
    "**⚠️ Cons:**\n",
    "- Heavily affected by recency and hype (new shows don’t have time to build views).\n",
    "- Highly skewed — a few shows dominate, most remain niche.\n",
    "\n",
    "**🧠 Best for**: Understanding *reach* or popularity.\n",
    "\n",
    "---\n",
    "\n",
    "#### 🔹 **Option 3: `score_count`** – *The engagement metric*  \n",
    "**What it means**: Number of users who actually rated the anime.\n",
    "\n",
    "**✅ Pros:**\n",
    "- Good hybrid of quality and popularity — reflects both viewership and user effort.\n",
    "  \n",
    "**⚠️ Cons:**\n",
    "- Still affected by anime recency and whether rating was available to users.\n",
    "\n",
    "**🧠 Best for**: Capturing *viewer engagement*.\n",
    "\n",
    "---"
   ]
  },
  {
   "cell_type": "code",
   "execution_count": 6,
   "id": "91cd360d-38d2-4a51-a972-662898b551a8",
   "metadata": {},
   "outputs": [
    {
     "data": {
      "text/plain": [
       "0     6.50\n",
       "1     6.20\n",
       "2     6.39\n",
       "3     7.82\n",
       "4     8.46\n",
       "5     8.62\n",
       "6     7.24\n",
       "7     7.25\n",
       "8     6.78\n",
       "9     6.76\n",
       "10    6.84\n",
       "11    8.13\n",
       "12    6.64\n",
       "13    6.33\n",
       "14    8.12\n",
       "15    7.34\n",
       "16    8.53\n",
       "17    7.91\n",
       "18    6.78\n",
       "19    8.25\n",
       "Name: score, dtype: float64"
      ]
     },
     "execution_count": 6,
     "metadata": {},
     "output_type": "execute_result"
    }
   ],
   "source": [
    "df['score'].head(20)"
   ]
  },
  {
   "cell_type": "code",
   "execution_count": 7,
   "id": "feec90b9-01e6-4bda-980b-58a06d3bf2e6",
   "metadata": {},
   "outputs": [
    {
     "data": {
      "text/plain": [
       "0      1719\n",
       "1      3349\n",
       "2      1890\n",
       "3       609\n",
       "4       228\n",
       "5        22\n",
       "6     13494\n",
       "7     11412\n",
       "8     10840\n",
       "9     11062\n",
       "10    10740\n",
       "11      672\n",
       "12     2891\n",
       "13     2634\n",
       "14     1498\n",
       "15     1331\n",
       "16      469\n",
       "17      306\n",
       "18      295\n",
       "19       58\n",
       "Name: popularity_rank, dtype: int64"
      ]
     },
     "execution_count": 7,
     "metadata": {},
     "output_type": "execute_result"
    }
   ],
   "source": [
    "df['popularity_rank'].head(20)"
   ]
  },
  {
   "cell_type": "code",
   "execution_count": 8,
   "id": "87cb0e9e-2a4e-40eb-a176-e398619fe789",
   "metadata": {},
   "outputs": [
    {
     "data": {
      "text/plain": [
       "0      77.0\n",
       "1      84.0\n",
       "2      77.0\n",
       "3     175.0\n",
       "4      77.0\n",
       "5     161.0\n",
       "6     127.0\n",
       "7     175.0\n",
       "8      63.0\n",
       "9     189.0\n",
       "10     70.0\n",
       "11    161.0\n",
       "12    315.0\n",
       "13    357.0\n",
       "14     70.0\n",
       "15     70.0\n",
       "16    168.0\n",
       "17     77.0\n",
       "18     77.0\n",
       "19     84.0\n",
       "Name: duration, dtype: float64"
      ]
     },
     "execution_count": 8,
     "metadata": {},
     "output_type": "execute_result"
    }
   ],
   "source": [
    "df['duration'].head(20)"
   ]
  },
  {
   "cell_type": "code",
   "execution_count": 6,
   "id": "7d8b4720-25ab-4496-b6ce-2bf80e43b477",
   "metadata": {},
   "outputs": [
    {
     "name": "stdout",
     "output_type": "stream",
     "text": [
      "studios\n",
      "Unknown                                         1493\n",
      "Toei Animation                                   462\n",
      "Sunrise                                          338\n",
      "J.C.Staff                                        309\n",
      "Madhouse                                         282\n",
      "                                                ... \n",
      "Yamato Works                                       1\n",
      "Digital Network Animation                          1\n",
      "Production I.G|Signal.MD|Production GoodBook       1\n",
      "Studio Rikka|Purple Cow Studio Japan               1\n",
      "Signal.MD|Sublimation                              1\n",
      "Name: count, Length: 1086, dtype: int64\n"
     ]
    }
   ],
   "source": [
    "# Count how often each studio appears\n",
    "studio_counts = df['studios'].value_counts()\n",
    "print(studio_counts)"
   ]
  },
  {
   "cell_type": "code",
   "execution_count": 7,
   "id": "fc47104f-cc2a-4602-90c6-dabf4dccc792",
   "metadata": {},
   "outputs": [
    {
     "name": "stdout",
     "output_type": "stream",
     "text": [
      "studios\n",
      "Unknown              1493\n",
      "Toei Animation        462\n",
      "Sunrise               338\n",
      "J.C.Staff             309\n",
      "Madhouse              282\n",
      "Studio Deen           231\n",
      "Studio Pierrot        217\n",
      "Production I.G        205\n",
      "A-1 Pictures          187\n",
      "TMS Entertainment     186\n",
      "Name: count, dtype: int64\n"
     ]
    }
   ],
   "source": [
    "\n",
    "# See top 10 studios\n",
    "print(studio_counts.head(10))\n",
    "\n",
    "\n"
   ]
  },
  {
   "cell_type": "code",
   "execution_count": 8,
   "id": "7bb60b6f-ef26-4344-b344-9ec70a705ee7",
   "metadata": {},
   "outputs": [
    {
     "name": "stdout",
     "output_type": "stream",
     "text": [
      "['LIDENFILMS|Felix Film' 'Tomovies' 'AIC' ... 'Production I.G|Zexcs'\n",
      " 'Sunrise|Bandai Visual' 'Fifth Avenue']\n"
     ]
    }
   ],
   "source": [
    "# If you want all unique studio names\n",
    "unique_studios = df['studios'].unique()\n",
    "print(unique_studios)"
   ]
  },
  {
   "cell_type": "markdown",
   "id": "9c5873c2-736e-4d8d-945b-1d37bfb6f1bd",
   "metadata": {},
   "source": [
    "a big problem with studios, its separated by | "
   ]
  },
  {
   "cell_type": "code",
   "execution_count": 3,
   "id": "021e4e49-807f-483e-82a8-853b625d98a1",
   "metadata": {},
   "outputs": [],
   "source": [
    "df['studios'] = df['studios'].str.split('|').apply(lambda x: [s.strip() for s in x])"
   ]
  },
  {
   "cell_type": "code",
   "execution_count": 4,
   "id": "8a3a6aa8-7ad3-4fb0-a33e-067af7e4c859",
   "metadata": {},
   "outputs": [],
   "source": [
    "df.to_parquet(\"anime_data_feature_engineered_v2.parquet\", index=False)\n"
   ]
  },
  {
   "cell_type": "code",
   "execution_count": 5,
   "id": "ac3a9902-74b5-4bdd-b30f-ff61840c2722",
   "metadata": {},
   "outputs": [],
   "source": [
    "df2 = pd.read_parquet(\"anime_data_feature_engineered_v2.parquet\")"
   ]
  },
  {
   "cell_type": "code",
   "execution_count": 7,
   "id": "bce6e691-fc45-4017-b354-36bea3cefab6",
   "metadata": {},
   "outputs": [
    {
     "name": "stdout",
     "output_type": "stream",
     "text": [
      "studios\n",
      "[Unknown]                         1493\n",
      "[Toei Animation]                   462\n",
      "[Sunrise]                          338\n",
      "[J.C.Staff]                        309\n",
      "[Madhouse]                         282\n",
      "                                  ... \n",
      "[J.C.Staff, Egg Firm]                1\n",
      "[Studio Pierrot, Pierrot Plus]       1\n",
      "[Passione, Creators in Pack]         1\n",
      "[Gallop, Studio Deen]                1\n",
      "[Nippon Animation, Xebec]            1\n",
      "Name: count, Length: 1359, dtype: int64\n"
     ]
    }
   ],
   "source": [
    "studio_counts = df2['studios'].value_counts()\n",
    "print(studio_counts)"
   ]
  },
  {
   "cell_type": "markdown",
   "id": "9e7a1591-7a03-4c27-9f68-41e681e7c984",
   "metadata": {},
   "source": [
    "now 'studios' is a list just like genres. Lets engineer another feature called studio_rank_score based on how many times a certain studio name occurs."
   ]
  },
  {
   "cell_type": "code",
   "execution_count": 8,
   "id": "4100dd58-b240-49da-b900-2a27498b6079",
   "metadata": {},
   "outputs": [],
   "source": [
    "df_exploded = df.explode('studios').copy()\n"
   ]
  },
  {
   "cell_type": "code",
   "execution_count": 9,
   "id": "7ec8f56e-71d9-4783-9bde-dae39dae05c5",
   "metadata": {},
   "outputs": [],
   "source": [
    "df_exploded['studios'] = df_exploded['studios'].str.strip()\n"
   ]
  },
  {
   "cell_type": "code",
   "execution_count": 10,
   "id": "642f2de4-6258-4297-aa82-485a93a513b7",
   "metadata": {},
   "outputs": [],
   "source": [
    "studio_counts = df_exploded['studios'].value_counts()\n",
    "studio_freq_map = studio_counts.to_dict()\n"
   ]
  },
  {
   "cell_type": "code",
   "execution_count": 11,
   "id": "0fbc420c-63f7-4ba5-b500-79ae9f6dbeb3",
   "metadata": {},
   "outputs": [],
   "source": [
    "df['studio_rank_score'] = df['studios'].apply(\n",
    "    lambda studio_list: sum(studio_freq_map.get(studio, 0) for studio in studio_list)\n",
    ")\n"
   ]
  },
  {
   "cell_type": "code",
   "execution_count": 12,
   "id": "613c86b4-d86b-49b2-8cf9-a996d9f02c53",
   "metadata": {},
   "outputs": [],
   "source": [
    "df.to_parquet(\"anime_data_feature_engineered_v2.parquet\", index=False)"
   ]
  },
  {
   "cell_type": "code",
   "execution_count": 13,
   "id": "e9fa978b-825f-49c5-8603-a004f1d6b10c",
   "metadata": {},
   "outputs": [],
   "source": [
    "df3 = pd.read_parquet(\"anime_data_feature_engineered_v2.parquet\")"
   ]
  },
  {
   "cell_type": "code",
   "execution_count": 14,
   "id": "204f37e4-c620-4c98-a844-42f32c5c0335",
   "metadata": {},
   "outputs": [
    {
     "data": {
      "text/plain": [
       "0     72\n",
       "1      4\n",
       "2    144\n",
       "3     35\n",
       "4     43\n",
       "Name: studio_rank_score, dtype: int64"
      ]
     },
     "execution_count": 14,
     "metadata": {},
     "output_type": "execute_result"
    }
   ],
   "source": [
    "df3['studio_rank_score'].head()"
   ]
  },
  {
   "cell_type": "markdown",
   "id": "cb446e1b-2e56-4b39-aad1-0b207913429f",
   "metadata": {},
   "source": [
    "🔍 What is studio_rank_score?\n",
    "It is a numerical score assigned to each anime based on how popular its studios are, calculated like this:\n",
    "\n",
    "✅ For each row in your dataset (i.e., for each anime):\n",
    "1. studios is a list of studios (e.g., ['Bones', 'Aniplex'])\n",
    "2. You look up the frequency of each studio in the entire dataset (i.e., how many anime it's worked on)\n",
    "3. You sum those frequencies\n",
    "\n",
    "🧠 Example:\n",
    "Let’s say your studio_counts looks like this:\n",
    "Bones: 100\n",
    "Aniplex: 80\n",
    "Studio DEEN: 25\n",
    "\n",
    "Now imagine an anime has:\n",
    "df.loc[42, 'studios'] = ['Bones', 'Aniplex']\n",
    "\n",
    "Then its studio_rank_score will be:\n",
    "100 (Bones) + 80 (Aniplex) = 180\n",
    "\n",
    "If another anime has:\n",
    "['Studio DEEN']\n",
    "Then its studio_rank_score = 25\n",
    "\n",
    "✅ So to summarize:\n",
    "- studio_rank_score is per anime\n",
    "- it's based on how many times the studio(s) appeared in the entire dataset\n",
    "- if there are multiple studios, it adds up all their frequencies\n",
    "\n"
   ]
  },
  {
   "cell_type": "markdown",
   "id": "d9b339c1-de3c-4e20-aabb-ae6fab581366",
   "metadata": {},
   "source": [
    "**Total features engineered: 3**"
   ]
  },
  {
   "cell_type": "code",
   "execution_count": 15,
   "id": "edb45a6f-f83c-47a8-8619-bc1e97ea58b6",
   "metadata": {},
   "outputs": [
    {
     "name": "stdout",
     "output_type": "stream",
     "text": [
      "anime_id                        int64\n",
      "anime_url                      object\n",
      "title                          object\n",
      "synopsis                       object\n",
      "main_pic                       object\n",
      "type                           object\n",
      "source_type                    object\n",
      "num_episodes                    int64\n",
      "status                         object\n",
      "start_date             datetime64[ns]\n",
      "end_date               datetime64[ns]\n",
      "season                         object\n",
      "studios                        object\n",
      "genres                         object\n",
      "score                         float64\n",
      "score_count                   float64\n",
      "score_rank                    float64\n",
      "popularity_rank                 int64\n",
      "members_count                   int64\n",
      "favorites_count                 int64\n",
      "watching_count                  int64\n",
      "completed_count                 int64\n",
      "on_hold_count                   int64\n",
      "dropped_count                   int64\n",
      "plan_to_watch_count             int64\n",
      "total_count                     int64\n",
      "score_10_count                  int64\n",
      "score_09_count                  int64\n",
      "score_08_count                  int64\n",
      "score_07_count                  int64\n",
      "score_06_count                  int64\n",
      "score_05_count                  int64\n",
      "score_04_count                  int64\n",
      "score_03_count                  int64\n",
      "score_02_count                  int64\n",
      "score_01_count                  int64\n",
      "clubs                          object\n",
      "pics                           object\n",
      "duration                      float64\n",
      "release_year                    int32\n",
      "studio_rank_score               int64\n",
      "dtype: object\n"
     ]
    }
   ],
   "source": [
    "print(df.dtypes)"
   ]
  },
  {
   "cell_type": "code",
   "execution_count": 16,
   "id": "c567a32d-35c1-4ed5-a34f-401433af7305",
   "metadata": {},
   "outputs": [],
   "source": [
    "# Your selected features\n",
    "selected_features = [\n",
    "    'type', 'num_episodes', 'status', 'start_date', 'end_date', \n",
    "    'season', 'studios', 'genres', 'score', 'release_year',\n",
    "    'studio_rank_score', 'duration'\n",
    "]\n",
    "\n",
    "# Slice the DataFrame\n",
    "df_selected = df[selected_features]\n",
    "\n",
    "# Save to CSV\n",
    "df_selected.to_csv('anime_data_selected_features.csv', index=False)\n",
    "\n",
    "# Save to Parquet\n",
    "df_selected.to_parquet('anime_data_selected_features.parquet', index=False)\n"
   ]
  },
  {
   "cell_type": "code",
   "execution_count": 23,
   "id": "0cda8b1e-02c9-4ebd-aaef-c57c809983bb",
   "metadata": {},
   "outputs": [
    {
     "data": {
      "text/plain": [
       "0     Winter 2021\n",
       "1       Fall 2015\n",
       "2     Summer 2011\n",
       "3       Fall 2004\n",
       "4     Winter 2021\n",
       "         ...     \n",
       "95      Fall 1996\n",
       "96    Winter 1977\n",
       "97    Spring 1969\n",
       "98      Fall 1980\n",
       "99      Fall 2007\n",
       "Name: season, Length: 100, dtype: object"
      ]
     },
     "execution_count": 23,
     "metadata": {},
     "output_type": "execute_result"
    }
   ],
   "source": [
    "df['season'].head(100)"
   ]
  },
  {
   "cell_type": "code",
   "execution_count": 18,
   "id": "61ed213f-0c39-4041-9359-ace8f17115fc",
   "metadata": {},
   "outputs": [
    {
     "data": {
      "text/plain": [
       "0    Finished Airing\n",
       "1    Finished Airing\n",
       "2    Finished Airing\n",
       "3    Finished Airing\n",
       "4    Finished Airing\n",
       "Name: status, dtype: object"
      ]
     },
     "execution_count": 18,
     "metadata": {},
     "output_type": "execute_result"
    }
   ],
   "source": [
    "df['status'].head()"
   ]
  },
  {
   "cell_type": "code",
   "execution_count": 19,
   "id": "e84f98e5-4ae9-4d65-9d3f-b8187845b3c5",
   "metadata": {},
   "outputs": [
    {
     "name": "stdout",
     "output_type": "stream",
     "text": [
      "Nulls in 'status': 0\n",
      "Nulls in 'season': 6964\n"
     ]
    }
   ],
   "source": [
    "print(\"Nulls in 'status':\", df['status'].isnull().sum())\n",
    "print(\"Nulls in 'season':\", df['season'].isnull().sum())\n"
   ]
  },
  {
   "cell_type": "markdown",
   "id": "61adfce1-366c-45e7-8571-aff9ebc4ec26",
   "metadata": {},
   "source": [
    "there are too many nulls in season. This feature basically is: Season the anime started airing on (example animes that started in Jan 2020 have season Winter 2020). So lets engineer the values using its start date "
   ]
  },
  {
   "cell_type": "code",
   "execution_count": 24,
   "id": "6dc7838c-9109-4790-8297-c5f58a151b8e",
   "metadata": {},
   "outputs": [
    {
     "data": {
      "text/html": [
       "<div>\n",
       "<style scoped>\n",
       "    .dataframe tbody tr th:only-of-type {\n",
       "        vertical-align: middle;\n",
       "    }\n",
       "\n",
       "    .dataframe tbody tr th {\n",
       "        vertical-align: top;\n",
       "    }\n",
       "\n",
       "    .dataframe thead th {\n",
       "        text-align: right;\n",
       "    }\n",
       "</style>\n",
       "<table border=\"1\" class=\"dataframe\">\n",
       "  <thead>\n",
       "    <tr style=\"text-align: right;\">\n",
       "      <th></th>\n",
       "      <th>anime_id</th>\n",
       "      <th>start_date</th>\n",
       "      <th>season</th>\n",
       "    </tr>\n",
       "  </thead>\n",
       "  <tbody>\n",
       "    <tr>\n",
       "      <th>3683</th>\n",
       "      <td>42603</td>\n",
       "      <td>2020-08-16</td>\n",
       "      <td>None</td>\n",
       "    </tr>\n",
       "    <tr>\n",
       "      <th>3684</th>\n",
       "      <td>44752</td>\n",
       "      <td>2020-12-10</td>\n",
       "      <td>None</td>\n",
       "    </tr>\n",
       "    <tr>\n",
       "      <th>3685</th>\n",
       "      <td>51013</td>\n",
       "      <td>2022-02-12</td>\n",
       "      <td>None</td>\n",
       "    </tr>\n",
       "    <tr>\n",
       "      <th>3686</th>\n",
       "      <td>50462</td>\n",
       "      <td>2020-09-30</td>\n",
       "      <td>None</td>\n",
       "    </tr>\n",
       "    <tr>\n",
       "      <th>3687</th>\n",
       "      <td>45643</td>\n",
       "      <td>2021-01-06</td>\n",
       "      <td>None</td>\n",
       "    </tr>\n",
       "  </tbody>\n",
       "</table>\n",
       "</div>"
      ],
      "text/plain": [
       "      anime_id start_date season\n",
       "3683     42603 2020-08-16   None\n",
       "3684     44752 2020-12-10   None\n",
       "3685     51013 2022-02-12   None\n",
       "3686     50462 2020-09-30   None\n",
       "3687     45643 2021-01-06   None"
      ]
     },
     "execution_count": 24,
     "metadata": {},
     "output_type": "execute_result"
    }
   ],
   "source": [
    "df[df['season'].isnull()][['anime_id', 'start_date', 'season']].head(5)\n"
   ]
  },
  {
   "cell_type": "code",
   "execution_count": 25,
   "id": "d018d94d-2cf4-4cce-a36a-2d3127b81939",
   "metadata": {},
   "outputs": [],
   "source": [
    "# Step 1: Create a function to map month to season\n",
    "def get_season_from_month(month):\n",
    "    if month in [1, 2, 3]:\n",
    "        return \"Winter\"\n",
    "    elif month in [4, 5, 6]:\n",
    "        return \"Spring\"\n",
    "    elif month in [7, 8, 9]:\n",
    "        return \"Summer\"\n",
    "    elif month in [10, 11, 12]:\n",
    "        return \"Fall\"\n",
    "    else:\n",
    "        return None\n",
    "\n",
    "# Step 2: Fill null seasons based on start_date\n",
    "def fill_season(row):\n",
    "    if pd.isnull(row['season']) and pd.notnull(row['start_date']):\n",
    "        month = row['start_date'].month\n",
    "        year = row['start_date'].year\n",
    "        season_name = get_season_from_month(month)\n",
    "        if season_name:\n",
    "            return f\"{season_name} {year}\"\n",
    "    return row['season']  # keep original if not null\n",
    "\n",
    "# Apply it\n",
    "df['season'] = df.apply(fill_season, axis=1)\n"
   ]
  },
  {
   "cell_type": "code",
   "execution_count": 28,
   "id": "308c6f50-a3b1-4fd9-8ad6-e7fade77d36c",
   "metadata": {},
   "outputs": [
    {
     "data": {
      "text/html": [
       "<div>\n",
       "<style scoped>\n",
       "    .dataframe tbody tr th:only-of-type {\n",
       "        vertical-align: middle;\n",
       "    }\n",
       "\n",
       "    .dataframe tbody tr th {\n",
       "        vertical-align: top;\n",
       "    }\n",
       "\n",
       "    .dataframe thead th {\n",
       "        text-align: right;\n",
       "    }\n",
       "</style>\n",
       "<table border=\"1\" class=\"dataframe\">\n",
       "  <thead>\n",
       "    <tr style=\"text-align: right;\">\n",
       "      <th></th>\n",
       "      <th>anime_id</th>\n",
       "      <th>start_date</th>\n",
       "      <th>season</th>\n",
       "    </tr>\n",
       "  </thead>\n",
       "  <tbody>\n",
       "    <tr>\n",
       "      <th>3683</th>\n",
       "      <td>42603</td>\n",
       "      <td>2020-08-16</td>\n",
       "      <td>Summer 2020</td>\n",
       "    </tr>\n",
       "    <tr>\n",
       "      <th>3684</th>\n",
       "      <td>44752</td>\n",
       "      <td>2020-12-10</td>\n",
       "      <td>Fall 2020</td>\n",
       "    </tr>\n",
       "    <tr>\n",
       "      <th>3685</th>\n",
       "      <td>51013</td>\n",
       "      <td>2022-02-12</td>\n",
       "      <td>Winter 2022</td>\n",
       "    </tr>\n",
       "    <tr>\n",
       "      <th>3686</th>\n",
       "      <td>50462</td>\n",
       "      <td>2020-09-30</td>\n",
       "      <td>Summer 2020</td>\n",
       "    </tr>\n",
       "    <tr>\n",
       "      <th>3687</th>\n",
       "      <td>45643</td>\n",
       "      <td>2021-01-06</td>\n",
       "      <td>Winter 2021</td>\n",
       "    </tr>\n",
       "  </tbody>\n",
       "</table>\n",
       "</div>"
      ],
      "text/plain": [
       "      anime_id start_date       season\n",
       "3683     42603 2020-08-16  Summer 2020\n",
       "3684     44752 2020-12-10    Fall 2020\n",
       "3685     51013 2022-02-12  Winter 2022\n",
       "3686     50462 2020-09-30  Summer 2020\n",
       "3687     45643 2021-01-06  Winter 2021"
      ]
     },
     "execution_count": 28,
     "metadata": {},
     "output_type": "execute_result"
    }
   ],
   "source": [
    "anime_ids_to_check = [42603, 44752, 51013, 50462, 45643]\n",
    "df[df['anime_id'].isin(anime_ids_to_check)][['anime_id', 'start_date', 'season']]\n"
   ]
  },
  {
   "cell_type": "code",
   "execution_count": 27,
   "id": "48843d72-6597-42be-8e22-00be860c761e",
   "metadata": {},
   "outputs": [
    {
     "name": "stdout",
     "output_type": "stream",
     "text": [
      "Nulls in 'season': 0\n"
     ]
    }
   ],
   "source": [
    "print(\"Nulls in 'season':\", df['season'].isnull().sum())"
   ]
  },
  {
   "cell_type": "code",
   "execution_count": 29,
   "id": "7d648391-17af-471a-b406-ae8202f3e01e",
   "metadata": {},
   "outputs": [],
   "source": [
    "# Save to CSV\n",
    "df.to_csv('anime_data_selected_features.csv', index=False)\n",
    "\n",
    "# Save to Parquet\n",
    "df.to_parquet('anime_data_selected_features.parquet', index=False)"
   ]
  },
  {
   "cell_type": "code",
   "execution_count": 30,
   "id": "b4205945-2253-4f02-96df-5bd9af9f70fa",
   "metadata": {},
   "outputs": [],
   "source": [
    "df5 = pd.read_parquet('anime_data_selected_features.parquet')"
   ]
  },
  {
   "cell_type": "code",
   "execution_count": 31,
   "id": "a788b180-5bc8-40fb-ba65-c1203f0a0376",
   "metadata": {},
   "outputs": [
    {
     "data": {
      "text/html": [
       "<div>\n",
       "<style scoped>\n",
       "    .dataframe tbody tr th:only-of-type {\n",
       "        vertical-align: middle;\n",
       "    }\n",
       "\n",
       "    .dataframe tbody tr th {\n",
       "        vertical-align: top;\n",
       "    }\n",
       "\n",
       "    .dataframe thead th {\n",
       "        text-align: right;\n",
       "    }\n",
       "</style>\n",
       "<table border=\"1\" class=\"dataframe\">\n",
       "  <thead>\n",
       "    <tr style=\"text-align: right;\">\n",
       "      <th></th>\n",
       "      <th>anime_id</th>\n",
       "      <th>start_date</th>\n",
       "      <th>season</th>\n",
       "    </tr>\n",
       "  </thead>\n",
       "  <tbody>\n",
       "    <tr>\n",
       "      <th>3683</th>\n",
       "      <td>42603</td>\n",
       "      <td>2020-08-16</td>\n",
       "      <td>Summer 2020</td>\n",
       "    </tr>\n",
       "    <tr>\n",
       "      <th>3684</th>\n",
       "      <td>44752</td>\n",
       "      <td>2020-12-10</td>\n",
       "      <td>Fall 2020</td>\n",
       "    </tr>\n",
       "    <tr>\n",
       "      <th>3685</th>\n",
       "      <td>51013</td>\n",
       "      <td>2022-02-12</td>\n",
       "      <td>Winter 2022</td>\n",
       "    </tr>\n",
       "    <tr>\n",
       "      <th>3686</th>\n",
       "      <td>50462</td>\n",
       "      <td>2020-09-30</td>\n",
       "      <td>Summer 2020</td>\n",
       "    </tr>\n",
       "    <tr>\n",
       "      <th>3687</th>\n",
       "      <td>45643</td>\n",
       "      <td>2021-01-06</td>\n",
       "      <td>Winter 2021</td>\n",
       "    </tr>\n",
       "  </tbody>\n",
       "</table>\n",
       "</div>"
      ],
      "text/plain": [
       "      anime_id start_date       season\n",
       "3683     42603 2020-08-16  Summer 2020\n",
       "3684     44752 2020-12-10    Fall 2020\n",
       "3685     51013 2022-02-12  Winter 2022\n",
       "3686     50462 2020-09-30  Summer 2020\n",
       "3687     45643 2021-01-06  Winter 2021"
      ]
     },
     "execution_count": 31,
     "metadata": {},
     "output_type": "execute_result"
    }
   ],
   "source": [
    "anime_ids_to_check = [42603, 44752, 51013, 50462, 45643]\n",
    "df5[df5['anime_id'].isin(anime_ids_to_check)][['anime_id', 'start_date', 'season']]"
   ]
  },
  {
   "cell_type": "code",
   "execution_count": 33,
   "id": "35b577e4-1aa3-485d-a603-64d71bc85c61",
   "metadata": {},
   "outputs": [],
   "source": [
    "# Your selected features\n",
    "selected_features = [\n",
    "    'type', 'num_episodes', 'status', 'start_date', 'end_date', \n",
    "    'season', 'studios', 'genres', 'score', 'release_year',\n",
    "    'studio_rank_score', 'duration'\n",
    "]\n",
    "\n",
    "# Slice the DataFrame\n",
    "df_selected = df[selected_features]\n",
    "\n",
    "# Save to CSV\n",
    "df_selected.to_csv('anime_data_selected_featuresv2.csv', index=False)\n",
    "\n",
    "# Save to Parquet\n",
    "df_selected.to_parquet('anime_data_selected_featuresv2.parquet', index=False)"
   ]
  },
  {
   "cell_type": "code",
   "execution_count": 34,
   "id": "38ce4e76-eb23-48fe-9058-329ea952dadb",
   "metadata": {},
   "outputs": [],
   "source": [
    "df6 = pd.read_parquet('anime_data_selected_featuresv2.parquet')"
   ]
  },
  {
   "cell_type": "code",
   "execution_count": 35,
   "id": "9ff3e82b-8df4-47ae-ab64-ed4ef979a795",
   "metadata": {},
   "outputs": [
    {
     "data": {
      "text/html": [
       "<div>\n",
       "<style scoped>\n",
       "    .dataframe tbody tr th:only-of-type {\n",
       "        vertical-align: middle;\n",
       "    }\n",
       "\n",
       "    .dataframe tbody tr th {\n",
       "        vertical-align: top;\n",
       "    }\n",
       "\n",
       "    .dataframe thead th {\n",
       "        text-align: right;\n",
       "    }\n",
       "</style>\n",
       "<table border=\"1\" class=\"dataframe\">\n",
       "  <thead>\n",
       "    <tr style=\"text-align: right;\">\n",
       "      <th></th>\n",
       "      <th>type</th>\n",
       "      <th>num_episodes</th>\n",
       "      <th>status</th>\n",
       "      <th>start_date</th>\n",
       "      <th>end_date</th>\n",
       "      <th>season</th>\n",
       "      <th>studios</th>\n",
       "      <th>genres</th>\n",
       "      <th>score</th>\n",
       "      <th>release_year</th>\n",
       "      <th>studio_rank_score</th>\n",
       "      <th>duration</th>\n",
       "    </tr>\n",
       "  </thead>\n",
       "  <tbody>\n",
       "    <tr>\n",
       "      <th>0</th>\n",
       "      <td>TV</td>\n",
       "      <td>12</td>\n",
       "      <td>Finished Airing</td>\n",
       "      <td>2021-01-04</td>\n",
       "      <td>2021-03-22</td>\n",
       "      <td>Winter 2021</td>\n",
       "      <td>[LIDENFILMS, Felix Film]</td>\n",
       "      <td>[Adventure, Fantasy, Girls Love, Mystery, Sci-Fi]</td>\n",
       "      <td>6.50</td>\n",
       "      <td>2021</td>\n",
       "      <td>72</td>\n",
       "      <td>77.0</td>\n",
       "    </tr>\n",
       "    <tr>\n",
       "      <th>1</th>\n",
       "      <td>TV</td>\n",
       "      <td>13</td>\n",
       "      <td>Finished Airing</td>\n",
       "      <td>2015-10-02</td>\n",
       "      <td>2015-12-25</td>\n",
       "      <td>Fall 2015</td>\n",
       "      <td>[Tomovies]</td>\n",
       "      <td>[Horror, Mystery, Supernatural, Suspense]</td>\n",
       "      <td>6.20</td>\n",
       "      <td>2015</td>\n",
       "      <td>4</td>\n",
       "      <td>84.0</td>\n",
       "    </tr>\n",
       "    <tr>\n",
       "      <th>2</th>\n",
       "      <td>TV</td>\n",
       "      <td>12</td>\n",
       "      <td>Finished Airing</td>\n",
       "      <td>2011-07-10</td>\n",
       "      <td>2011-09-25</td>\n",
       "      <td>Summer 2011</td>\n",
       "      <td>[AIC]</td>\n",
       "      <td>[Comedy, Romance, Ecchi, Harem, School]</td>\n",
       "      <td>6.39</td>\n",
       "      <td>2011</td>\n",
       "      <td>144</td>\n",
       "      <td>77.0</td>\n",
       "    </tr>\n",
       "    <tr>\n",
       "      <th>3</th>\n",
       "      <td>TV</td>\n",
       "      <td>26</td>\n",
       "      <td>Finished Airing</td>\n",
       "      <td>2004-10-05</td>\n",
       "      <td>2005-03-29</td>\n",
       "      <td>Fall 2004</td>\n",
       "      <td>[Studio Comet]</td>\n",
       "      <td>[Comedy, Romance, School, Shounen]</td>\n",
       "      <td>7.82</td>\n",
       "      <td>2004</td>\n",
       "      <td>35</td>\n",
       "      <td>175.0</td>\n",
       "    </tr>\n",
       "    <tr>\n",
       "      <th>4</th>\n",
       "      <td>TV</td>\n",
       "      <td>12</td>\n",
       "      <td>Finished Airing</td>\n",
       "      <td>2021-01-06</td>\n",
       "      <td>2021-03-24</td>\n",
       "      <td>Winter 2021</td>\n",
       "      <td>[White Fox]</td>\n",
       "      <td>[Drama, Fantasy, Suspense, Psychological]</td>\n",
       "      <td>8.46</td>\n",
       "      <td>2021</td>\n",
       "      <td>43</td>\n",
       "      <td>77.0</td>\n",
       "    </tr>\n",
       "  </tbody>\n",
       "</table>\n",
       "</div>"
      ],
      "text/plain": [
       "  type  num_episodes           status start_date   end_date       season  \\\n",
       "0   TV            12  Finished Airing 2021-01-04 2021-03-22  Winter 2021   \n",
       "1   TV            13  Finished Airing 2015-10-02 2015-12-25    Fall 2015   \n",
       "2   TV            12  Finished Airing 2011-07-10 2011-09-25  Summer 2011   \n",
       "3   TV            26  Finished Airing 2004-10-05 2005-03-29    Fall 2004   \n",
       "4   TV            12  Finished Airing 2021-01-06 2021-03-24  Winter 2021   \n",
       "\n",
       "                    studios  \\\n",
       "0  [LIDENFILMS, Felix Film]   \n",
       "1                [Tomovies]   \n",
       "2                     [AIC]   \n",
       "3            [Studio Comet]   \n",
       "4               [White Fox]   \n",
       "\n",
       "                                              genres  score  release_year  \\\n",
       "0  [Adventure, Fantasy, Girls Love, Mystery, Sci-Fi]   6.50          2021   \n",
       "1          [Horror, Mystery, Supernatural, Suspense]   6.20          2015   \n",
       "2            [Comedy, Romance, Ecchi, Harem, School]   6.39          2011   \n",
       "3                 [Comedy, Romance, School, Shounen]   7.82          2004   \n",
       "4          [Drama, Fantasy, Suspense, Psychological]   8.46          2021   \n",
       "\n",
       "   studio_rank_score  duration  \n",
       "0                 72      77.0  \n",
       "1                  4      84.0  \n",
       "2                144      77.0  \n",
       "3                 35     175.0  \n",
       "4                 43      77.0  "
      ]
     },
     "execution_count": 35,
     "metadata": {},
     "output_type": "execute_result"
    }
   ],
   "source": [
    "df6.head()"
   ]
  },
  {
   "cell_type": "code",
   "execution_count": 37,
   "id": "b7a87c40-a9fa-4794-b460-99ee463fcc7a",
   "metadata": {},
   "outputs": [
    {
     "name": "stdout",
     "output_type": "stream",
     "text": [
      "🔍 Null Values in Each Column:\n",
      "\n",
      "type                  0\n",
      "num_episodes          0\n",
      "status                0\n",
      "start_date            0\n",
      "end_date             28\n",
      "season                0\n",
      "studios               0\n",
      "genres                0\n",
      "score                 0\n",
      "release_year          0\n",
      "studio_rank_score     0\n",
      "duration             28\n",
      "dtype: int64\n",
      "\n",
      "--------------------------------------------------\n",
      "\n"
     ]
    }
   ],
   "source": [
    "# Check for nulls in each column\n",
    "print(\"🔍 Null Values in Each Column:\\n\")\n",
    "print(df6.isnull().sum())\n",
    "print(\"\\n\" + \"-\"*50 + \"\\n\")"
   ]
  },
  {
   "cell_type": "code",
   "execution_count": 38,
   "id": "170a71aa-9bc5-4df7-89db-bf3cdf2cb13d",
   "metadata": {},
   "outputs": [
    {
     "name": "stdout",
     "output_type": "stream",
     "text": [
      "✅ CSV saved as 'missing_enddate_duration_check.csv' with the relevant columns.\n"
     ]
    }
   ],
   "source": [
    "# Filter rows where end_date and duration are null\n",
    "missing_end = df6[df6['end_date'].isnull() & df6['duration'].isnull()]\n",
    "\n",
    "# If anime_id is available, include it too for clarity\n",
    "columns_to_check = ['anime_id', 'status', 'start_date', 'end_date', 'duration'] if 'anime_id' in df6.columns else ['status', 'start_date', 'end_date', 'duration']\n",
    "\n",
    "# Save to CSV\n",
    "missing_end[columns_to_check].to_csv(\"missing_enddate_duration_check.csv\", index=False)\n",
    "\n",
    "print(\"✅ CSV saved as 'missing_enddate_duration_check.csv' with the relevant columns.\")\n"
   ]
  },
  {
   "cell_type": "markdown",
   "id": "41c65e04-74b2-4bc2-a6a5-7de4299babbf",
   "metadata": {},
   "source": [
    "All are Currently Airing. Perfect."
   ]
  },
  {
   "cell_type": "code",
   "execution_count": 39,
   "id": "a5a49f97-0ec5-49c3-a6d7-dead2c399ccb",
   "metadata": {},
   "outputs": [
    {
     "name": "stdout",
     "output_type": "stream",
     "text": [
      "🧪 Data Types of Each Column:\n",
      "\n",
      "type                         object\n",
      "num_episodes                  int64\n",
      "status                       object\n",
      "start_date           datetime64[ns]\n",
      "end_date             datetime64[ns]\n",
      "season                       object\n",
      "studios                      object\n",
      "genres                       object\n",
      "score                       float64\n",
      "release_year                  int32\n",
      "studio_rank_score             int64\n",
      "duration                    float64\n",
      "dtype: object\n"
     ]
    }
   ],
   "source": [
    "print(\"🧪 Data Types of Each Column:\\n\")\n",
    "print(df6.dtypes)"
   ]
  }
 ],
 "metadata": {
  "kernelspec": {
   "display_name": "Python 3 (ipykernel)",
   "language": "python",
   "name": "python3"
  },
  "language_info": {
   "codemirror_mode": {
    "name": "ipython",
    "version": 3
   },
   "file_extension": ".py",
   "mimetype": "text/x-python",
   "name": "python",
   "nbconvert_exporter": "python",
   "pygments_lexer": "ipython3",
   "version": "3.9.21"
  }
 },
 "nbformat": 4,
 "nbformat_minor": 5
}
